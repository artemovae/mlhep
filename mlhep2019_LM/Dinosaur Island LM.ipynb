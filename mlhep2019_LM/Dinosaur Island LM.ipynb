{
 "cells": [
  {
   "cell_type": "markdown",
   "metadata": {
    "colab_type": "text",
    "id": "wYGGdoMgjssw"
   },
   "source": [
    "# Language modelling"
   ]
  },
  {
   "cell_type": "markdown",
   "metadata": {
    "colab_type": "text",
    "id": "pQligDFNjss0"
   },
   "source": [
    "In this tutorial we will use two character level language models to create dinosaur names. These models are:\n",
    "* bigram model\n",
    "* recurrent neural network model.\n",
    "\n",
    "Why are they different?"
   ]
  },
  {
   "cell_type": "markdown",
   "metadata": {
    "colab_type": "text",
    "id": "8egeope4jss2"
   },
   "source": [
    "![picture](https://vignette.wikia.nocookie.net/uncyclopedia/images/7/73/Hankk_the_dino.png/revision/latest?cb=20100127020302)"
   ]
  },
  {
   "cell_type": "code",
   "execution_count": 0,
   "metadata": {
    "colab": {
     "base_uri": "https://localhost:8080/",
     "height": 562,
     "resources": {
      "http://localhost:8080/nbextensions/google.colab/files.js": {
       "data": "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",
       "headers": [
        [
         "content-type",
         "application/javascript"
        ]
       ],
       "ok": true,
       "status": 200,
       "status_text": ""
      }
     }
    },
    "colab_type": "code",
    "executionInfo": {
     "elapsed": 20658,
     "status": "error",
     "timestamp": 1555592966719,
     "user": {
      "displayName": "SeVaGL",
      "photoUrl": "https://lh5.googleusercontent.com/-leYXqZg--No/AAAAAAAAAAI/AAAAAAAAABU/dZvr7Y86fxg/s64/photo.jpg",
      "userId": "00240059372093509128"
     },
     "user_tz": -180
    },
    "id": "RYL4i1UqF23_",
    "outputId": "e390b77f-fb5c-443e-cd2e-9a6cb826ea08"
   },
   "outputs": [
    {
     "data": {
      "text/html": [
       "\n",
       "     <input type=\"file\" id=\"files-d893b4fd-37cd-4361-afa5-8ab2c8e40dff\" name=\"files[]\" multiple disabled />\n",
       "     <output id=\"result-d893b4fd-37cd-4361-afa5-8ab2c8e40dff\">\n",
       "      Upload widget is only available when the cell has been executed in the\n",
       "      current browser session. Please rerun this cell to enable.\n",
       "      </output>\n",
       "      <script src=\"/nbextensions/google.colab/files.js\"></script> "
      ],
      "text/plain": [
       "<IPython.core.display.HTML object>"
      ]
     },
     "metadata": {
      "tags": []
     },
     "output_type": "display_data"
    },
    {
     "ename": "KeyboardInterrupt",
     "evalue": "ignored",
     "output_type": "error",
     "traceback": [
      "\u001b[0;31m---------------------------------------------------------------------------\u001b[0m",
      "\u001b[0;31mKeyboardInterrupt\u001b[0m                         Traceback (most recent call last)",
      "\u001b[0;32m<ipython-input-1-21dc3c638f66>\u001b[0m in \u001b[0;36m<module>\u001b[0;34m()\u001b[0m\n\u001b[1;32m      1\u001b[0m \u001b[0;32mfrom\u001b[0m \u001b[0mgoogle\u001b[0m\u001b[0;34m.\u001b[0m\u001b[0mcolab\u001b[0m \u001b[0;32mimport\u001b[0m \u001b[0mfiles\u001b[0m\u001b[0;34m\u001b[0m\u001b[0;34m\u001b[0m\u001b[0m\n\u001b[0;32m----> 2\u001b[0;31m \u001b[0muploaded\u001b[0m \u001b[0;34m=\u001b[0m \u001b[0mfiles\u001b[0m\u001b[0;34m.\u001b[0m\u001b[0mupload\u001b[0m\u001b[0;34m(\u001b[0m\u001b[0;34m)\u001b[0m\u001b[0;34m\u001b[0m\u001b[0;34m\u001b[0m\u001b[0m\n\u001b[0m",
      "\u001b[0;32m/usr/local/lib/python3.6/dist-packages/google/colab/files.py\u001b[0m in \u001b[0;36mupload\u001b[0;34m()\u001b[0m\n\u001b[1;32m     62\u001b[0m   result = _output.eval_js(\n\u001b[1;32m     63\u001b[0m       'google.colab._files._uploadFiles(\"{input_id}\", \"{output_id}\")'.format(\n\u001b[0;32m---> 64\u001b[0;31m           input_id=input_id, output_id=output_id))\n\u001b[0m\u001b[1;32m     65\u001b[0m   \u001b[0mfiles\u001b[0m \u001b[0;34m=\u001b[0m \u001b[0m_collections\u001b[0m\u001b[0;34m.\u001b[0m\u001b[0mdefaultdict\u001b[0m\u001b[0;34m(\u001b[0m\u001b[0m_six\u001b[0m\u001b[0;34m.\u001b[0m\u001b[0mbinary_type\u001b[0m\u001b[0;34m)\u001b[0m\u001b[0;34m\u001b[0m\u001b[0;34m\u001b[0m\u001b[0m\n\u001b[1;32m     66\u001b[0m   \u001b[0;31m# Mapping from original filename to filename as saved locally.\u001b[0m\u001b[0;34m\u001b[0m\u001b[0;34m\u001b[0m\u001b[0;34m\u001b[0m\u001b[0m\n",
      "\u001b[0;32m/usr/local/lib/python3.6/dist-packages/google/colab/output/_js.py\u001b[0m in \u001b[0;36meval_js\u001b[0;34m(script, ignore_result)\u001b[0m\n\u001b[1;32m     37\u001b[0m   \u001b[0;32mif\u001b[0m \u001b[0mignore_result\u001b[0m\u001b[0;34m:\u001b[0m\u001b[0;34m\u001b[0m\u001b[0;34m\u001b[0m\u001b[0m\n\u001b[1;32m     38\u001b[0m     \u001b[0;32mreturn\u001b[0m\u001b[0;34m\u001b[0m\u001b[0;34m\u001b[0m\u001b[0m\n\u001b[0;32m---> 39\u001b[0;31m   \u001b[0;32mreturn\u001b[0m \u001b[0m_message\u001b[0m\u001b[0;34m.\u001b[0m\u001b[0mread_reply_from_input\u001b[0m\u001b[0;34m(\u001b[0m\u001b[0mrequest_id\u001b[0m\u001b[0;34m)\u001b[0m\u001b[0;34m\u001b[0m\u001b[0;34m\u001b[0m\u001b[0m\n\u001b[0m\u001b[1;32m     40\u001b[0m \u001b[0;34m\u001b[0m\u001b[0m\n\u001b[1;32m     41\u001b[0m \u001b[0;34m\u001b[0m\u001b[0m\n",
      "\u001b[0;32m/usr/local/lib/python3.6/dist-packages/google/colab/_message.py\u001b[0m in \u001b[0;36mread_reply_from_input\u001b[0;34m(message_id, timeout_sec)\u001b[0m\n\u001b[1;32m     99\u001b[0m     \u001b[0mreply\u001b[0m \u001b[0;34m=\u001b[0m \u001b[0m_read_next_input_message\u001b[0m\u001b[0;34m(\u001b[0m\u001b[0;34m)\u001b[0m\u001b[0;34m\u001b[0m\u001b[0;34m\u001b[0m\u001b[0m\n\u001b[1;32m    100\u001b[0m     \u001b[0;32mif\u001b[0m \u001b[0mreply\u001b[0m \u001b[0;34m==\u001b[0m \u001b[0m_NOT_READY\u001b[0m \u001b[0;32mor\u001b[0m \u001b[0;32mnot\u001b[0m \u001b[0misinstance\u001b[0m\u001b[0;34m(\u001b[0m\u001b[0mreply\u001b[0m\u001b[0;34m,\u001b[0m \u001b[0mdict\u001b[0m\u001b[0;34m)\u001b[0m\u001b[0;34m:\u001b[0m\u001b[0;34m\u001b[0m\u001b[0;34m\u001b[0m\u001b[0m\n\u001b[0;32m--> 101\u001b[0;31m       \u001b[0mtime\u001b[0m\u001b[0;34m.\u001b[0m\u001b[0msleep\u001b[0m\u001b[0;34m(\u001b[0m\u001b[0;36m0.025\u001b[0m\u001b[0;34m)\u001b[0m\u001b[0;34m\u001b[0m\u001b[0;34m\u001b[0m\u001b[0m\n\u001b[0m\u001b[1;32m    102\u001b[0m       \u001b[0;32mcontinue\u001b[0m\u001b[0;34m\u001b[0m\u001b[0;34m\u001b[0m\u001b[0m\n\u001b[1;32m    103\u001b[0m     if (reply.get('type') == 'colab_reply' and\n",
      "\u001b[0;31mKeyboardInterrupt\u001b[0m: "
     ]
    }
   ],
   "source": [
    "from google.colab import files\n",
    "uploaded = files.upload()\n"
   ]
  },
  {
   "cell_type": "markdown",
   "metadata": {
    "colab_type": "text",
    "id": "mxAAlqAsjss5"
   },
   "source": [
    "## Bigram model\n",
    "\n",
    "Uncomment the cell below if you do not have NLTK installed."
   ]
  },
  {
   "cell_type": "code",
   "execution_count": 0,
   "metadata": {
    "colab": {
     "base_uri": "https://localhost:8080/",
     "height": 74
    },
    "colab_type": "code",
    "executionInfo": {
     "elapsed": 983,
     "status": "ok",
     "timestamp": 1555585267872,
     "user": {
      "displayName": "Katya Artemova",
      "photoUrl": "",
      "userId": "18167249060865824710"
     },
     "user_tz": -180
    },
    "id": "HpETpiZcjss7",
    "outputId": "20305048-af9e-4a9a-fa2d-45231cb99109"
   },
   "outputs": [
    {
     "name": "stdout",
     "output_type": "stream",
     "text": [
      "['<aachenosaurus>', '<aardonyx>', '<abdallahsaurus>', '<abelisaurus>', '<abrictosaurus>', '<abrosaurus>', '<abydosaurus>', '<acanthopholis>', '<achelousaurus>', '<acheroraptor>']\n"
     ]
    }
   ],
   "source": [
    "names = ['<' + name.strip().lower() + '>' for name in open('dinos.txt').readlines()]\n",
    "print(names[:10])"
   ]
  },
  {
   "cell_type": "code",
   "execution_count": 0,
   "metadata": {
    "colab": {
     "base_uri": "https://localhost:8080/",
     "height": 50
    },
    "colab_type": "code",
    "executionInfo": {
     "elapsed": 10018,
     "status": "ok",
     "timestamp": 1554998114702,
     "user": {
      "displayName": "Ivan Maksimov",
      "photoUrl": "",
      "userId": "09853626855261156129"
     },
     "user_tz": -180
    },
    "id": "_db6xNrqjstK",
    "outputId": "d20c6ab7-a97f-4887-cb09-7c340ff463bc"
   },
   "outputs": [
    {
     "name": "stdout",
     "output_type": "stream",
     "text": [
      "Requirement already satisfied: nltk in /usr/local/lib/python3.6/dist-packages (3.2.5)\n",
      "Requirement already satisfied: six in /usr/local/lib/python3.6/dist-packages (from nltk) (1.11.0)\n"
     ]
    }
   ],
   "source": [
    "!pip install nltk"
   ]
  },
  {
   "cell_type": "code",
   "execution_count": 0,
   "metadata": {
    "colab": {},
    "colab_type": "code",
    "id": "JbcfIPmUjstP"
   },
   "outputs": [],
   "source": [
    "import nltk"
   ]
  },
  {
   "cell_type": "markdown",
   "metadata": {
    "colab_type": "text",
    "id": "9V9HiCAtjstU"
   },
   "source": [
    "**Step 1.** Compute frequency of each character"
   ]
  },
  {
   "cell_type": "code",
   "execution_count": 0,
   "metadata": {
    "colab": {},
    "colab_type": "code",
    "id": "IiAYXooljstV"
   },
   "outputs": [],
   "source": [
    "chars = [char  for name in names for char in name]\n",
    "freq = nltk.FreqDist(chars)"
   ]
  },
  {
   "cell_type": "code",
   "execution_count": 0,
   "metadata": {
    "colab": {
     "base_uri": "https://localhost:8080/",
     "height": 33
    },
    "colab_type": "code",
    "executionInfo": {
     "elapsed": 2912,
     "status": "ok",
     "timestamp": 1554998130474,
     "user": {
      "displayName": "Ivan Maksimov",
      "photoUrl": "",
      "userId": "09853626855261156129"
     },
     "user_tz": -180
    },
    "id": "WNtqsKIwjsta",
    "outputId": "208ae627-8b38-4b89-89ab-3cf7eebbfa91"
   },
   "outputs": [
    {
     "name": "stdout",
     "output_type": "stream",
     "text": [
      "['<', 'b', 'a', 'y', '>', 't', 'i', 'r', 'n', 'u', 's', 'o', 'k', 'e']\n"
     ]
    }
   ],
   "source": [
    "print(list(freq.keys()))"
   ]
  },
  {
   "cell_type": "code",
   "execution_count": 0,
   "metadata": {
    "colab": {
     "base_uri": "https://localhost:8080/",
     "height": 184
    },
    "colab_type": "code",
    "executionInfo": {
     "elapsed": 1931,
     "status": "ok",
     "timestamp": 1554998135022,
     "user": {
      "displayName": "Ivan Maksimov",
      "photoUrl": "",
      "userId": "09853626855261156129"
     },
     "user_tz": -180
    },
    "id": "1oYt93aRjstg",
    "outputId": "911b7de4-b0c7-4162-8ad6-ed114a8ab28e"
   },
   "outputs": [
    {
     "data": {
      "text/plain": [
       "[('r', 13),\n",
       " ('a', 11),\n",
       " ('<', 5),\n",
       " ('>', 5),\n",
       " ('u', 5),\n",
       " ('o', 5),\n",
       " ('n', 4),\n",
       " ('s', 4),\n",
       " ('t', 3),\n",
       " ('b', 2)]"
      ]
     },
     "execution_count": 9,
     "metadata": {
      "tags": []
     },
     "output_type": "execute_result"
    }
   ],
   "source": [
    "freq.most_common(10)"
   ]
  },
  {
   "cell_type": "markdown",
   "metadata": {
    "colab_type": "text",
    "id": "uAGrzEfAjstk"
   },
   "source": [
    "Define a function to estimate probabilty of character"
   ]
  },
  {
   "cell_type": "code",
   "execution_count": 0,
   "metadata": {
    "colab": {},
    "colab_type": "code",
    "id": "DqSMnYS6jstl"
   },
   "outputs": [],
   "source": [
    "l = sum([freq[char] for char in freq])\n",
    "def unigram_prob(char):\n",
    "    return freq[char] / l"
   ]
  },
  {
   "cell_type": "code",
   "execution_count": 0,
   "metadata": {
    "colab": {
     "base_uri": "https://localhost:8080/",
     "height": 33
    },
    "colab_type": "code",
    "executionInfo": {
     "elapsed": 2088,
     "status": "ok",
     "timestamp": 1554998160032,
     "user": {
      "displayName": "Ivan Maksimov",
      "photoUrl": "",
      "userId": "09853626855261156129"
     },
     "user_tz": -180
    },
    "id": "jG4qTiX3jsto",
    "outputId": "e04e80e1-a620-4268-f2e6-635524821955"
   },
   "outputs": [
    {
     "name": "stdout",
     "output_type": "stream",
     "text": [
      "p(a) = 0.1774\n"
     ]
    }
   ],
   "source": [
    "print('p(a) = %1.4f' %unigram_prob('a'))"
   ]
  },
  {
   "cell_type": "markdown",
   "metadata": {
    "colab_type": "text",
    "id": "sQ0OtOtdjstr"
   },
   "source": [
    "**Step 2.** Compute frequency of each character condtioned on the previous one"
   ]
  },
  {
   "cell_type": "code",
   "execution_count": 0,
   "metadata": {
    "colab": {},
    "colab_type": "code",
    "id": "VWwpZw27jsts"
   },
   "outputs": [],
   "source": [
    "cfreq = nltk.ConditionalFreqDist(nltk.bigrams(chars))"
   ]
  },
  {
   "cell_type": "code",
   "execution_count": 0,
   "metadata": {
    "colab": {
     "base_uri": "https://localhost:8080/",
     "height": 33
    },
    "colab_type": "code",
    "executionInfo": {
     "elapsed": 1513,
     "status": "ok",
     "timestamp": 1554998174376,
     "user": {
      "displayName": "Ivan Maksimov",
      "photoUrl": "",
      "userId": "09853626855261156129"
     },
     "user_tz": -180
    },
    "id": "jL2VKqWdjstv",
    "outputId": "f10e0c10-211e-4c80-9411-6651d210d3f5"
   },
   "outputs": [
    {
     "data": {
      "text/plain": [
       "FreqDist({'b': 1, 'n': 4, 'r': 1, 'u': 5})"
      ]
     },
     "execution_count": 13,
     "metadata": {
      "tags": []
     },
     "output_type": "execute_result"
    }
   ],
   "source": [
    "# кол-во раз, когда какая-то буква встреается ПОСЛЕ а\n",
    "cfreq['a']"
   ]
  },
  {
   "cell_type": "markdown",
   "metadata": {
    "colab_type": "text",
    "id": "1NKiJclcjsty"
   },
   "source": [
    "**Step 3.** Use MLE to estimate condtional probabilities"
   ]
  },
  {
   "cell_type": "code",
   "execution_count": 0,
   "metadata": {
    "colab": {},
    "colab_type": "code",
    "id": "ro7_s1Qqjstz"
   },
   "outputs": [],
   "source": [
    "cprob = nltk.ConditionalProbDist(cfreq, nltk.MLEProbDist)"
   ]
  },
  {
   "cell_type": "code",
   "execution_count": 0,
   "metadata": {
    "colab": {
     "base_uri": "https://localhost:8080/",
     "height": 67
    },
    "colab_type": "code",
    "executionInfo": {
     "elapsed": 2052,
     "status": "ok",
     "timestamp": 1554998215429,
     "user": {
      "displayName": "Ivan Maksimov",
      "photoUrl": "",
      "userId": "09853626855261156129"
     },
     "user_tz": -180
    },
    "id": "8bnl2c5pjst2",
    "outputId": "488c87cf-5f37-491c-9a3a-263d7f7805e0"
   },
   "outputs": [
    {
     "name": "stdout",
     "output_type": "stream",
     "text": [
      "p(a a) = 0.0000\n",
      "p(a b) = 0.0909\n",
      "p(a u) = 0.4545\n"
     ]
    }
   ],
   "source": [
    "print('p(a a) = %1.4f' %cprob['a'].prob('a'))\n",
    "print('p(a b) = %1.4f' %cprob['a'].prob('b'))\n",
    "print('p(a u) = %1.4f' %cprob['a'].prob('u'))"
   ]
  },
  {
   "cell_type": "markdown",
   "metadata": {
    "colab_type": "text",
    "id": "NJbfwA_Kjst5"
   },
   "source": [
    "We can use cprob to generate next characters"
   ]
  },
  {
   "cell_type": "code",
   "execution_count": 0,
   "metadata": {
    "colab": {
     "base_uri": "https://localhost:8080/",
     "height": 33
    },
    "colab_type": "code",
    "executionInfo": {
     "elapsed": 1238,
     "status": "ok",
     "timestamp": 1554998301262,
     "user": {
      "displayName": "Ivan Maksimov",
      "photoUrl": "",
      "userId": "09853626855261156129"
     },
     "user_tz": -180
    },
    "id": "AB0LG9Aijst6",
    "outputId": "5dddd3c2-cc99-4f61-9fd9-ce0693849a36"
   },
   "outputs": [
    {
     "data": {
      "text/plain": [
       "'r'"
      ]
     },
     "execution_count": 20,
     "metadata": {
      "tags": []
     },
     "output_type": "execute_result"
    }
   ],
   "source": [
    "cprob['a'].generate()"
   ]
  },
  {
   "cell_type": "markdown",
   "metadata": {
    "colab_type": "text",
    "id": "ZOEH4tcijst-"
   },
   "source": [
    "### Task 1.\n",
    "a. Write a function to generate a dinosaur name of **fixed** length. Use '<' as a start of name symbol.\n",
    "\n",
    "b. Write a to generate a dinosaur names of any length. "
   ]
  },
  {
   "cell_type": "markdown",
   "metadata": {
    "colab_type": "text",
    "id": "8C6AXbd1jst_"
   },
   "source": [
    "## Recurrent neural networks\n",
    "\n",
    "Input:\n",
    "\n",
    "$x_{1:n} = x_1, x_2, \\ldots, x_n$, $x_i \\in \\mathbb{R}^{d_{in}}$\n",
    "\n",
    "For each input $x_{1:i}$ we get an output $y_i$:\n",
    "\n",
    "$y_i = RNN(x_{1:i})$, $y_i \\in \\mathbb{R}^{d_{out}}$\n",
    "\n",
    "For the whole input sequence $x_{1:n}$:\n",
    "\n",
    "$y_{1:n} = RNN^{*}(x_{1:n})$, $y_i \\in \\mathbb{R}^{d_{out}}$"
   ]
  },
  {
   "cell_type": "markdown",
   "metadata": {
    "colab_type": "text",
    "id": "CVdGJAyXjst_"
   },
   "source": [
    "$R$ is a recursive activation function with two inputs: $x_i$ и $s_{i-1}$ (state vector)\n",
    "\n",
    "$RNN^{*}(x_{1:n}, s_0) = y_{1:n}$\n",
    "\n",
    "$y_i = O(s_i) = g(W^{out}[s_{i} ,x_i] +b)$\n",
    "\n",
    "$s_i = R(s_{i-1}, x_i)$\n",
    "\n",
    "$s_i = R(s_{i-1}, x_i) = g(W^{hid}[s_{i-1} ,x_i] +b)$  -- concatenate $[s_{i-1}, x]$\n",
    "\n",
    "$x_i \\in \\mathbb{R}^{d_{in}}$, $y_i \\in \\mathbb{R}^{ d_{out}}$, $s_i \\in \\mathbb{R}^{d_{hid}}$\n",
    "\n",
    "$W^{hid} \\in \\mathbb{R}^{(d_{in}+d_{out}) \\times d_{hid}}$, $W^{out} \\in \\mathbb{R}^{d_{hid} \\times d_{out}}$"
   ]
  },
  {
   "cell_type": "markdown",
   "metadata": {
    "colab_type": "text",
    "id": "z3kydlaIjsuA"
   },
   "source": [
    "![rnn](https://github.com/enggen/Deep-Learning-Coursera/raw/1407e19c98833d2686a0748db26b594f3102301e/Sequence%20Models/Week1/Dinosaur%20Island%20--%20Character-level%20language%20model/images/rnn.png)"
   ]
  },
  {
   "cell_type": "markdown",
   "metadata": {
    "colab_type": "text",
    "id": "oCsqUPwsjsuB"
   },
   "source": [
    "We are going to create an RNN-LM using pytorch"
   ]
  },
  {
   "cell_type": "code",
   "execution_count": 0,
   "metadata": {
    "colab": {},
    "colab_type": "code",
    "id": "kVpY2fwfjsuB"
   },
   "outputs": [],
   "source": [
    "import numpy as np\n",
    "import random\n",
    "import torch\n",
    "import torch.nn as nn\n",
    "import torch.optim as optim\n",
    "import pdb\n",
    "from torch.utils.data import Dataset, DataLoader\n",
    "\n",
    "%load_ext autoreload\n",
    "%autoreload 2\n",
    "\n",
    "torch.set_printoptions(linewidth=200)"
   ]
  },
  {
   "cell_type": "code",
   "execution_count": 2,
   "metadata": {
    "colab": {
     "base_uri": "https://localhost:8080/",
     "height": 33
    },
    "colab_type": "code",
    "executionInfo": {
     "elapsed": 3715,
     "status": "ok",
     "timestamp": 1555593496617,
     "user": {
      "displayName": "Ivan Maksimov",
      "photoUrl": "",
      "userId": "09853626855261156129"
     },
     "user_tz": -180
    },
    "id": "cZf1AjTejsuD",
    "outputId": "5a9f7b8b-5d2f-4d1d-e70a-d557059a84f2"
   },
   "outputs": [
    {
     "name": "stdout",
     "output_type": "stream",
     "text": [
      "cpu\n"
     ]
    }
   ],
   "source": [
    "device = torch.device(\"cuda:0\" if torch.cuda.is_available() else \"cpu\")\n",
    "hidden_size = 50\n",
    "\n",
    "print(device)"
   ]
  },
  {
   "cell_type": "markdown",
   "metadata": {
    "colab_type": "text",
    "id": "47DUTIoWjsuG"
   },
   "source": [
    "**Step 1**. Prepare the dataset"
   ]
  },
  {
   "cell_type": "code",
   "execution_count": 0,
   "metadata": {
    "code_folding": [
     0
    ],
    "colab": {},
    "colab_type": "code",
    "id": "zyqQmDHojsuH"
   },
   "outputs": [],
   "source": [
    "class DinosDataset(Dataset):\n",
    "    def __init__(self):\n",
    "        super().__init__()\n",
    "        with open('dinos.txt') as f:\n",
    "            content = f.read().lower()\n",
    "            self.vocab = sorted(set(content)) + ['<', '>']\n",
    "            self.vocab_size = len(self.vocab)\n",
    "            self.lines = content.splitlines()\n",
    "        self.ch_to_idx = {c:i for i, c in enumerate(self.vocab)}\n",
    "        self.idx_to_ch = {i:c for i, c in enumerate(self.vocab)}\n",
    "    \n",
    "    def __getitem__(self, index):\n",
    "        line = self.lines[index]\n",
    "        #teacher forcing\n",
    "        x_str = '<' + line \n",
    "        y_str = line + '>' \n",
    "        x = torch.zeros([len(x_str), self.vocab_size], dtype=torch.float)\n",
    "        y = torch.empty(len(x_str), dtype=torch.long)\n",
    "        for i, (x_ch, y_ch) in enumerate(zip(x_str, y_str)):\n",
    "            x[i][self.ch_to_idx[x_ch]] = 1\n",
    "            y[i] = self.ch_to_idx[y_ch]\n",
    "        \n",
    "        return x, y\n",
    "    \n",
    "    def __len__(self):\n",
    "        return len(self.lines)"
   ]
  },
  {
   "cell_type": "code",
   "execution_count": 0,
   "metadata": {
    "colab": {},
    "colab_type": "code",
    "id": "2NG7JFWUjsuJ"
   },
   "outputs": [],
   "source": [
    "trn_ds = DinosDataset()\n",
    "trn_dl = DataLoader(trn_ds, shuffle=True)"
   ]
  },
  {
   "cell_type": "code",
   "execution_count": 0,
   "metadata": {
    "colab": {},
    "colab_type": "code",
    "id": "k8Wn4caYjsuM",
    "outputId": "cf056485-4854-4e0e-8908-eedbd295cba9"
   },
   "outputs": [
    {
     "data": {
      "text/plain": [
       "'aardonyx'"
      ]
     },
     "execution_count": 210,
     "metadata": {
      "tags": []
     },
     "output_type": "execute_result"
    }
   ],
   "source": [
    "trn_ds.lines[1]"
   ]
  },
  {
   "cell_type": "code",
   "execution_count": 0,
   "metadata": {
    "colab": {},
    "colab_type": "code",
    "id": "XUVas0h6jsuR",
    "outputId": "57cb673b-0697-4ed8-ce28-3fe5c960c954"
   },
   "outputs": [
    {
     "name": "stdout",
     "output_type": "stream",
     "text": [
      "{0: '\\n', 1: 'a', 2: 'b', 3: 'c', 4: 'd', 5: 'e', 6: 'f', 7: 'g', 8: 'h', 9: 'i', 10: 'j', 11: 'k', 12: 'l', 13: 'm', 14: 'n', 15: 'o', 16: 'p', 17: 'q', 18: 'r', 19: 's', 20: 't', 21: 'u', 22: 'v', 23: 'w', 24: 'x', 25: 'y', 26: 'z', 27: '<', 28: '>'}\n"
     ]
    }
   ],
   "source": [
    "print(trn_ds.idx_to_ch)"
   ]
  },
  {
   "cell_type": "code",
   "execution_count": 0,
   "metadata": {
    "colab": {},
    "colab_type": "code",
    "id": "H41Yi3BPjsuU",
    "outputId": "73a33978-b55d-4a1b-a861-002ff3678fba"
   },
   "outputs": [
    {
     "data": {
      "text/plain": [
       "29"
      ]
     },
     "execution_count": 212,
     "metadata": {
      "tags": []
     },
     "output_type": "execute_result"
    }
   ],
   "source": [
    "trn_ds.vocab_size"
   ]
  },
  {
   "cell_type": "code",
   "execution_count": 0,
   "metadata": {
    "colab": {},
    "colab_type": "code",
    "id": "hNIKB8EPjsuW"
   },
   "outputs": [],
   "source": [
    "x, y = trn_ds[1]"
   ]
  },
  {
   "cell_type": "code",
   "execution_count": 0,
   "metadata": {
    "colab": {},
    "colab_type": "code",
    "id": "a6K8dF4sjsuY",
    "outputId": "8997a574-c947-445b-fd30-88398867aa31",
    "scrolled": true
   },
   "outputs": [
    {
     "data": {
      "text/plain": [
       "torch.Size([9, 29])"
      ]
     },
     "execution_count": 214,
     "metadata": {
      "tags": []
     },
     "output_type": "execute_result"
    }
   ],
   "source": [
    "x.shape"
   ]
  },
  {
   "cell_type": "code",
   "execution_count": 0,
   "metadata": {
    "colab": {},
    "colab_type": "code",
    "id": "zTiuj028jsub",
    "outputId": "06ca9634-d5e9-46e5-bd5f-7035b69e7a42"
   },
   "outputs": [
    {
     "data": {
      "text/plain": [
       "torch.Size([9])"
      ]
     },
     "execution_count": 215,
     "metadata": {
      "tags": []
     },
     "output_type": "execute_result"
    }
   ],
   "source": [
    "y.shape"
   ]
  },
  {
   "cell_type": "markdown",
   "metadata": {
    "colab_type": "text",
    "id": "XoRJZCN4jsuf"
   },
   "source": [
    "**Step 2**. Define a model, loss function and optimization algorithm"
   ]
  },
  {
   "cell_type": "code",
   "execution_count": 0,
   "metadata": {
    "code_folding": [],
    "colab": {},
    "colab_type": "code",
    "id": "QlnFtvOejsuf"
   },
   "outputs": [],
   "source": [
    "class RNN(nn.Module):\n",
    "    def __init__(self, input_size, hidden_size, output_size):\n",
    "        super().__init__()\n",
    "        self.i2h = nn.Linear(input_size + hidden_size, hidden_size)\n",
    "        self.dropout = nn.Dropout(0.3)\n",
    "        self.i2o = nn.Linear(input_size + hidden_size, output_size)\n",
    "    \n",
    "    def forward(self, h_prev, x):\n",
    "        combined = torch.cat([h_prev, x], dim = 1) # concatenate x and h\n",
    "        h = torch.tanh(self.dropout(self.i2h(combined)))\n",
    "        y = self.i2o(combined)\n",
    "        return h, y"
   ]
  },
  {
   "cell_type": "code",
   "execution_count": 0,
   "metadata": {
    "colab": {},
    "colab_type": "code",
    "id": "oj4E8rCZjsuh"
   },
   "outputs": [],
   "source": [
    "model = RNN(trn_ds.vocab_size, hidden_size, trn_ds.vocab_size).to(device)\n",
    "loss_fn = nn.CrossEntropyLoss()\n",
    "optimizer = optim.SGD(model.parameters(), lr=1e-2)"
   ]
  },
  {
   "cell_type": "markdown",
   "metadata": {
    "colab_type": "text",
    "id": "JptwzGSmjsuj"
   },
   "source": [
    "**Step 3**. Declare a sampling procedure"
   ]
  },
  {
   "cell_type": "markdown",
   "metadata": {
    "colab_type": "text",
    "id": "ll7NCHwJjsuj"
   },
   "source": [
    "![rnn](https://github.com/enggen/Deep-Learning-Coursera/raw/1407e19c98833d2686a0748db26b594f3102301e/Sequence%20Models/Week1/Dinosaur%20Island%20--%20Character-level%20language%20model/images/dinos3.png)"
   ]
  },
  {
   "cell_type": "code",
   "execution_count": 0,
   "metadata": {
    "code_folding": [],
    "colab": {},
    "colab_type": "code",
    "id": "D1UnWuHAjsuk"
   },
   "outputs": [],
   "source": [
    "def sample(model):\n",
    "    model.eval()\n",
    "    word_size=0\n",
    "    newline_idx = trn_ds.ch_to_idx['>']\n",
    "    with torch.no_grad():\n",
    "        h_prev = torch.zeros([1, hidden_size], dtype=torch.float, device=device)\n",
    "        x = h_prev.new_zeros([1, trn_ds.vocab_size])\n",
    "        start_char_idx = trn_ds.ch_to_idx['<']\n",
    "        indices = [start_char_idx]\n",
    "        x[0, start_char_idx] = 1\n",
    "        predicted_char_idx = start_char_idx\n",
    "        \n",
    "        while predicted_char_idx != newline_idx and word_size != 50:\n",
    "            h_prev, y_pred = model(h_prev, x)\n",
    "            y_softmax_scores = torch.softmax(y_pred, dim=1)\n",
    "            \n",
    "            np.random.seed(np.random.randint(1, 5000))\n",
    "            idx = np.random.choice(np.arange(trn_ds.vocab_size), p=y_softmax_scores.cpu().numpy().ravel())\n",
    "            indices.append(idx)\n",
    "            \n",
    "            x = (y_pred == y_pred.max(1)[0]).float()\n",
    " \n",
    "            \n",
    "            predicted_char_idx = idx\n",
    "            \n",
    "            word_size += 1\n",
    "        \n",
    "        if word_size == 50:\n",
    "            indices.append(newline_idx)\n",
    "    return indices"
   ]
  },
  {
   "cell_type": "code",
   "execution_count": 0,
   "metadata": {
    "code_folding": [],
    "colab": {},
    "colab_type": "code",
    "id": "LCaYxWsmjsum"
   },
   "outputs": [],
   "source": [
    "def print_sample(sample_idxs):\n",
    "    [print(trn_ds.idx_to_ch[x], end ='') for x in sample_idxs]\n",
    "    print()"
   ]
  },
  {
   "cell_type": "markdown",
   "metadata": {
    "colab_type": "text",
    "id": "zgaVjs5ojsuo"
   },
   "source": [
    "**Step 4**. Almost done! Train the model"
   ]
  },
  {
   "cell_type": "code",
   "execution_count": 0,
   "metadata": {
    "code_folding": [],
    "colab": {},
    "colab_type": "code",
    "id": "pcEvaxsVjsup"
   },
   "outputs": [],
   "source": [
    "def train_one_epoch(model, loss_fn, optimizer):\n",
    "    model.train()\n",
    "    for line_num, (x, y) in enumerate(trn_dl):\n",
    "        loss = 0\n",
    "        optimizer.zero_grad()\n",
    "        h_prev = torch.zeros([1, hidden_size], dtype=torch.float, device=device)\n",
    "        x, y = x.to(device), y.to(device)\n",
    "        for i in range(x.shape[1]):\n",
    "            h_prev, y_pred = model(h_prev, x[:, i])\n",
    "            loss += loss_fn(y_pred, y[:, i])\n",
    "            \n",
    "        if (line_num+1) % 100 == 0:\n",
    "            print_sample(sample(model))\n",
    "        loss.backward()\n",
    "        optimizer.step()"
   ]
  },
  {
   "cell_type": "code",
   "execution_count": 0,
   "metadata": {
    "code_folding": [],
    "colab": {},
    "colab_type": "code",
    "id": "DDzjhaSfjsuq"
   },
   "outputs": [],
   "source": [
    "def train(model, loss_fn, optimizer, dataset='dinos', epochs=1):\n",
    "    for e in range(1, epochs+1):\n",
    "        print('Epoch:{}'.format(e))\n",
    "        train_one_epoch(model, loss_fn, optimizer)\n",
    "        print()"
   ]
  },
  {
   "cell_type": "code",
   "execution_count": 0,
   "metadata": {
    "colab": {},
    "colab_type": "code",
    "id": "F88CtWHVjsus",
    "outputId": "32565c2c-4b15-4114-b89d-a39b1f69a41c",
    "scrolled": false
   },
   "outputs": [
    {
     "name": "stdout",
     "output_type": "stream",
     "text": [
      "Epoch:1\n",
      "<inaisaurus>\n",
      "<sqakitnaurus>\n",
      "<pudussngos>\n",
      "<zknrtsauros>\n",
      "<aukuaauras>\n",
      "<snnasaurus>\n",
      "<suroeturus>\n",
      "<putaoocaurus>\n",
      "<ahpnanaurus>\n",
      "<anttsaurus>\n",
      "<rtryslos>\n",
      "<angcmochurps>\n",
      "<laihtoraurus>\n",
      "<uisusnisur>\n",
      "<soruuaradrus>\n",
      "\n",
      "Epoch:2\n",
      "<fubcsiarus>\n",
      "<hcraivosaurus>\n",
      "<rurysauruo>\n",
      "<lcctaoo>\n",
      "<agroahsrus>\n",
      "<santosa>\n",
      "<sonhosaurus>\n",
      "<tagicgocaurus>\n",
      "<lagbrgicaurus>\n",
      "<busupaurus>\n",
      "<ltruaaueus>\n",
      "<smsactuaus>\n",
      "<gnbucaurus>\n",
      "<turhsiurus>\n",
      "<suaoraurus>\n",
      "\n",
      "Epoch:3\n",
      "<tcasoara>\n",
      "<gnbuaaurus>\n",
      "<suristusus>\n",
      "<suankanoasaurus>\n",
      "<arhunaerus>\n",
      "<pucuspurus>\n",
      "<zurostcrus>\n",
      "<scsitaurus>\n",
      "<curibterus>\n",
      "<busupaurus>\n",
      "<lurubisaurus>\n",
      "<tcatlbaurus>\n",
      "<sdixouous>\n",
      "<lllonwssauros>\n",
      "<amsasaulus>\n",
      "\n",
      "Epoch:4\n",
      "<aratliiuk>\n",
      "<wrsis>\n",
      "<spmtsaurus>\n",
      "<tbroaaueus>\n",
      "<ahsobcorustue>\n",
      "<wruersupaurus>\n",
      "<lrouaosaurus>\n",
      "<tcatobaurus>\n",
      "<scruptgtoshurus>\n",
      "<sauruchpaisaur>\n",
      "<agrnangsaurus>\n",
      "<wrshspurus>\n",
      "<jysirosaurus>\n",
      "<aurucauras>\n",
      "<snratapourus>\n",
      "\n",
      "Epoch:5\n",
      "<spatrlush>\n",
      "<suaonaurus>\n",
      "<tccupaurus>\n",
      "<auahyptdiurus>\n",
      "<rntuseuris>\n",
      "<amsasaunus>\n",
      "<apiunadrus>\n",
      "<oucusiurus>\n",
      "<yuruszcrus>\n",
      "<scrnocaurus>\n",
      "<snrasaurus>\n",
      "<susoiosaurus>\n",
      "<tbrnaaunus>\n",
      "<agstainrustug>\n",
      "<wrsbsturus>\n",
      "\n",
      "Epoch:6\n",
      "<kysnsiuaus>\n",
      "<gicrlsaurui>\n",
      "<curoatirus>\n",
      "<bususaurus>\n",
      "<lusucaurus>\n",
      "<sauaasgasaurus>\n",
      "<aauotaspurus>\n",
      "<kuugosoerus>\n",
      "<saugucauras>\n",
      "<snrasaurus>\n",
      "<suophosaurus>\n",
      "<tcenamlirus>\n",
      "<burasaurus>\n",
      "<anyrtirspurus>\n",
      "<yurostcrus>\n",
      "\n",
      "Epoch:7\n",
      "<sdrisaesup>\n",
      "<curiatgrus>\n",
      "<bususaurus>\n",
      "<luruaaunus>\n",
      "<slsadosaurus>\n",
      "<aucovaurus>\n",
      "<llsur>\n",
      "<sprusauras>\n",
      "<aurucauros>\n",
      "<sanarcaurus>\n",
      "<ttihosgxsaurus>\n",
      "<lcpscouras>\n",
      "<lbrcsaurus>\n",
      "<wrscsturus>\n",
      "<kysnptsbaurus>\n",
      "\n",
      "Epoch:8\n",
      "<smtbassaui>\n",
      "<gnauaaurus>\n",
      "<suroslutus>\n",
      "<suaopaurus>\n",
      "<tcctrapaurus>\n",
      "<antovcsiurus>\n",
      "<jytsosodrus>\n",
      "<scplrcauras>\n",
      "<sndctcrus>\n",
      "<bususaurus>\n",
      "<ltsucaunus>\n",
      "<sauacsacrus>\n",
      "<hctccusup>\n",
      "<suresopsurus>\n",
      "<anrartiros>\n",
      "\n",
      "Epoch:9\n",
      "<burapaurus>\n",
      "<anyptdaurus>\n",
      "<rnystos>\n",
      "<anebhsaurus>\n",
      "<spaoitnris>\n",
      "<jvnucsmurus>\n",
      "<kysosttaurus>\n",
      "<aurucauras>\n",
      "<snrascotaurus>\n",
      "<llstpturus>\n",
      "<anrancnrus>\n",
      "<buraoaur>\n",
      "<aucnvo>\n",
      "<bususaurus>\n",
      "<lhurapalrus>\n",
      "\n",
      "Epoch:10\n",
      "<eubasacrus>\n",
      "<hcrar>\n",
      "<puattsaurus>\n",
      "<srostcrua>\n",
      "<scsisamrum>\n",
      "<curiatas>\n",
      "<pucusturus>\n",
      "<yurus>\n",
      "<anrer>\n",
      "<aulucaurus>\n",
      "<snraraptouetys>\n",
      "<dusnvourus>\n",
      "<iobasasaurus>\n",
      "<apltllasaurus>\n",
      "<susomhurus>\n",
      "\n",
      "Epoch:11\n",
      "<pusarifrus>\n",
      "<erbchibaurus>\n",
      "<sansosaurus>\n",
      "<rinuorhuros>\n",
      "<amsasaurus>\n",
      "<aqctlicenrus>\n",
      "<btstalrus>\n",
      "<spotocaurus>\n",
      "<smsaitueus>\n",
      "<gnbuaaurus>\n",
      "<suriseurus>\n",
      "<suanicruo>\n",
      "<euaasabrus>\n",
      "<hcsar>\n",
      "<puctsiurus>\n",
      "\n",
      "Epoch:12\n",
      "<yuiptsaurus>\n",
      "<ateuacsacrus>\n",
      "<hcsanturus>\n",
      "<srmusaurus>\n",
      "<tbgpanaurus>\n",
      "<burasaurus>\n",
      "<aptsuatturottht>\n",
      "<ltsucaurus>\n",
      "<smsalosaurus>\n",
      "<aubovcurus>\n",
      "<llsuruurus>\n",
      "<anicesaossgs>\n",
      "<lbrisanaus>\n",
      "<wssesturus>\n",
      "<kysosiurus>\n",
      "\n",
      "Epoch:13\n",
      "<euaultbet>\n",
      "<aalropaurus>\n",
      "<tauosilrus>\n",
      "<satrqcaurus>\n",
      "<snsahtuaus>\n",
      "<gnatcosaurus>\n",
      "<llrsiysaurus>\n",
      "<lcrucuptcoosaurus>\n",
      "<auaptotax>\n",
      "<srctoeutk>\n",
      "<suaonasrus>\n",
      "<tcctmcia>\n",
      "<gncuatsssurus>\n",
      "<dtriyonosierus>\n",
      "<sdshradsicur>\n",
      "\n",
      "Epoch:14\n",
      "<gnbuaaurus>\n",
      "<surissssus>\n",
      "<suapacrum>\n",
      "<fpbdrpaurus>\n",
      "<aucossurus>\n",
      "<llrum>\n",
      "<srrusaurus>\n",
      "<aurucaoras>\n",
      "<snrasarrt>\n",
      "<busuoaurus>\n",
      "<lrttapaerus>\n",
      "<eubeshcrus>\n",
      "<hcsaryshurus>\n",
      "<dtonysaurus>\n",
      "<lcrteophurus>\n",
      "\n",
      "Epoch:15\n",
      "<llsopaurus>\n",
      "<tiptopaurus>\n",
      "<ltsuanpaesaurus>\n",
      "<snahrtpauras>\n",
      "<pucrsturus>\n",
      "<yuirotaisaurus>\n",
      "<tcatocaurus>\n",
      "<sdrus>\n",
      "<buttomiurus>\n",
      "<pusanocaurus>\n",
      "<ahsparaship>\n",
      "<aptotessaurus>\n",
      "<yursspcaurus>\n",
      "<smucasairus>\n",
      "<hctaisaurus>\n",
      "\n",
      "Epoch:16\n",
      "<llstousaurur>\n",
      "<kcruconter>\n",
      "<lbrisaurus>\n",
      "<wrsesdurus>\n",
      "<jyrpotraanas>\n",
      "<aucuadiunus>\n",
      "<gnaoanxruks>\n",
      "<sqmusaurus>\n",
      "<tbhpansatesaus>\n",
      "<apcunaeros>\n",
      "<puctsosaurus>\n",
      "<ltsuaasfus>\n",
      "<smsaltsaurus>\n",
      "<apciurtltu>\n",
      "<llsrrturus>\n",
      "\n",
      "Epoch:17\n",
      "<aaocosaurus>\n",
      "<sabicseoaurus>\n",
      "<tausonesaurus>\n",
      "<suaopaurus>\n",
      "<tccooceurus>\n",
      "<sdgyrturus>\n",
      "<dhrgyslsusuusuusuu>\n",
      "<tcctoaraurus>\n",
      "<anvsoeysourus>\n",
      "<ylnnosauros>\n",
      "<atcuacrnaos>\n",
      "<gnbuacurus>\n",
      "<turisosuurus>\n",
      "<anraroclurus>\n",
      "<laietdadros>\n",
      "\n",
      "Epoch:18\n",
      "<oucusaurus>\n",
      "<yurusucaurus>\n",
      "<smucgsaerus>\n",
      "<gcsarusturus>\n",
      "<durntuscurus>\n",
      "<amtcpnocrus>\n",
      "<llsoraurus>\n",
      "<thsustis>\n",
      "<kuugostgrus>\n",
      "<scsataiturus>\n",
      "<gacsanuseurus>\n",
      "<dtrhyscurus>\n",
      "<kcgtgnurus>\n",
      "<lbrasipaoryxs>\n",
      "<busuraurus>\n",
      "\n",
      "Epoch:19\n",
      "<lstoanaurus>\n",
      "<eucasoaaurus>\n",
      "<serurturus>\n",
      "<durouturus>\n",
      "<ipaprdnuros>\n",
      "<lbrisaueus>\n",
      "<wssisourus>\n",
      "<kysopsscaurus>\n",
      "<slsahopairsus>\n",
      "<scktoulshurus>\n",
      "<jytptusas>\n",
      "<altbolodasgalus>\n",
      "<gcscitaurus>\n",
      "<llstlusaurus>\n",
      "<lcktcoptag>\n",
      "\n",
      "Epoch:20\n",
      "<lbpiscuaus>\n",
      "<wssesourus>\n",
      "<kysosmurus>\n",
      "<euaultcluscur>\n",
      "<gactaryurus>\n",
      "<snctos>\n",
      "<sprusaurus>\n",
      "<aukuaauras>\n",
      "<snccrcaurus>\n",
      "<surhrorturus>\n",
      "<apran>\n",
      "<aihradopaioupedsort>\n",
      "<tgruthashusus>\n",
      "<suaopaesis>\n",
      "<tccupapisroasaurus>\n",
      "\n",
      "Epoch:21\n",
      "<surus>\n",
      "<rnytorysaurus>\n",
      "<atgraelunus>\n",
      "<gncucaurus>\n",
      "<slngosiuhurus>\n",
      "<inbosaurus>\n",
      "<spanaurus>\n",
      "<aptusaurus>\n",
      "<runwsaurus>\n",
      "<lcrucpurus>\n",
      "<lbkhtlodourus>\n",
      "<bissonpurus>\n",
      "<pusaohcrui>\n",
      "<eubhsacrus>\n",
      "<hcsgryshurus>\n",
      "\n",
      "Epoch:22\n",
      "<dtrntosaurus>\n",
      "<alscrisaurur>\n",
      "<curkaterus>\n",
      "<buttalrus>\n",
      "<snptsbisaurus>\n",
      "<tcatiaoaoriirmo>\n",
      "<ouatosaurus>\n",
      "<sprtsaurus>\n",
      "<auctaeosaurus>\n",
      "<aubosourus>\n",
      "<llrur>\n",
      "<sprusaurus>\n",
      "<aukuaeshcris>\n",
      "<gcseltrsmot>\n",
      "<llropuurus>\n",
      "\n",
      "Epoch:23\n",
      "<anrcrucaurus>\n",
      "<mbrhsaunus>\n",
      "<weucosrnaurus>\n",
      "<ltruanoaaurus>\n",
      "<ahsraraurus>\n",
      "<anttsauosoot>\n",
      "<kytospurus>\n",
      "<etarisaesadrus>\n",
      "<hcsanustpty>\n",
      "<llsurystor>\n",
      "<aniagtaurus>\n",
      "<snaiisaurus>\n",
      "<wsthstsaurus>\n",
      "<soottclsaurus>\n",
      "<tccuraurus>\n",
      "\n",
      "Epoch:24\n",
      "<auaotosaurus>\n",
      "<rtnwsaurub>\n",
      "<lamrasaurus>\n",
      "<ardurndaurus>\n",
      "<busurisaurus>\n",
      "<suaosaurus>\n",
      "<tccurapior>\n",
      "<aucmsaurus>\n",
      "<llrur>\n",
      "<snnusahiaaurus>\n",
      "<agsuakljuros>\n",
      "<juotassrnaurus>\n",
      "<ltsuahsaurus>\n",
      "<tccuraoasaurus>\n",
      "<wrugtsourus>\n",
      "\n",
      "Epoch:25\n",
      "<yukittcaurus>\n",
      "<smtalosaurus>\n",
      "<aucotosaurus>\n",
      "<rurwsnsaurus>\n",
      "<eubunsmrus>\n",
      "<llsorasaurus>\n",
      "<suopepurus>\n",
      "<pttbknaurus>\n",
      "<tcatecia>\n",
      "<gacsapyouat>\n",
      "<sqdusayrus>\n",
      "<tanicaurus>\n",
      "<agsoaaurus>\n",
      "<scpurturus>\n",
      "<dtsovturus>\n",
      "\n",
      "Epoch:26\n",
      "<ipcosaur>\n",
      "<agotapeplei>\n",
      "<antovasturus>\n",
      "<jyrosotahodeuas>\n",
      "<tcdurapaurus>\n",
      "<anyrtdos>\n",
      "<llrshztsauras>\n",
      "<alsasauhus>\n",
      "<ancunacrus>\n",
      "<puatturus>\n",
      "<jysorosanucs>\n",
      "<auruaauras>\n",
      "<snrasasrs>\n",
      "<bustnassa>\n",
      "<sprusaurus>\n",
      "\n",
      "Epoch:27\n",
      "<auluaaurus>\n",
      "<snpataurus>\n",
      "<suromturus>\n",
      "<pusaiadrui>\n",
      "<eucisacrus>\n",
      "<hcsgrusnurus>\n",
      "<dtroviurus>\n",
      "<hnbcsase>\n",
      "<agsoanmeurus>\n",
      "<jvruaosiurus>\n",
      "<yurtrscaurus>\n",
      "<slsaiosaurus>\n",
      "<auaptssurus>\n",
      "<eingysaurus>\n",
      "<lcguckuros>\n",
      "\n",
      "Epoch:28\n",
      "<mbecongcsurus>\n",
      "<busuresaurus>\n",
      "<spbgodaurus>\n",
      "<agtobaurus>\n",
      "<scczkurus>\n",
      "<llsupturus>\n",
      "<anichsasaurus>\n",
      "<arathmauiox>\n",
      "<tgsurimourus>\n",
      "<pusargcaurus>\n",
      "<aaugapaurus>\n",
      "<aauiuktssaurus>\n",
      "<spsrucaurus>\n",
      "<smteisobaurus>\n",
      "<scrustrrus>\n",
      "\n",
      "Epoch:29\n",
      "<dtros>\n",
      "<ltruanpaurus>\n",
      "<tcatobaurus>\n",
      "<scrupthiurus>\n",
      "<rpwrppuros>\n",
      "<amtatgsaurun>\n",
      "<cucnasan>\n",
      "<ouattuosaurus>\n",
      "<pusainaraurus>\n",
      "<burarauaol>\n",
      "<anyttaurus>\n",
      "<rscztnosamrus>\n",
      "<scslsaithambuos>\n",
      "<scrwrukturus>\n",
      "<rnvurostdasepsaur>\n",
      "\n",
      "Epoch:30\n",
      "<agroaourus>\n",
      "<sansrsaurus>\n",
      "<rtgzpnosoorus>\n",
      "<scseramnocaurus>\n",
      "<scrzrrmeurus>\n",
      "<qptur>\n",
      "<suanacisaurus>\n",
      "<spamesnneudaurus>\n",
      "<turbsoptor>\n",
      "<suboraurus>\n",
      "<tccuraurus>\n",
      "<aucosota>\n",
      "<suhhsnoteurus>\n",
      "<inbnsaooshaorasaurur>\n",
      "<antusaurus>\n",
      "\n",
      "Epoch:31\n",
      "<rtnusiuttaurts>\n",
      "<atitaurug>\n",
      "<curncsans>\n",
      "<thsushurus>\n",
      "<snotolatas>\n",
      "<atdradeurus>\n",
      "<gnardgwspurus>\n",
      "<durotturus>\n",
      "<iransauiucns>\n",
      "<arcunacris>\n",
      "<oucrsiurus>\n",
      "<yurtrrcaurus>\n",
      "<snsaiopaurus>\n",
      "<auartotaurus>\n",
      "<rrg>\n",
      "\n",
      "Epoch:32\n",
      "<snotvasasrus>\n",
      "<eubatocsetyxisdeurus>\n",
      "<suiirus>\n",
      "<sppttanodeooyx>\n",
      "<agsocaurus>\n",
      "<scrusturus>\n",
      "<dusnvgurus>\n",
      "<inbauasaurus>\n",
      "<argurocsats>\n",
      "<tgtssihotu>\n",
      "<srrrtaurus>\n",
      "<aurucauris>\n",
      "<sncaocotaurus>\n",
      "<llstmyurus>\n",
      "<anraoolthtaurum>\n",
      "\n",
      "Epoch:33\n",
      "<cudlasaurus>\n",
      "<sutmmosaurus>\n",
      "<tbgranigrus>\n",
      "<burarcshlaon>\n",
      "<wsscssooraurus>\n",
      "<pusapaorus>\n",
      "<gubisccrus>\n",
      "<hctarourus>\n",
      "<spgrsaurus>\n",
      "<tbrlchom>\n",
      "<euadrraurus>\n",
      "<auclvaurus>\n",
      "<llromvsaurus>\n",
      "<kcgscsisaurup>\n",
      "<cuenasaurus>\n",
      "\n",
      "Epoch:34\n",
      "<siughsaurus>\n",
      "<suahpapaurus>\n",
      "<burapaurus>\n",
      "<antovaptor>\n",
      "<rtgysaurus>\n",
      "<lcgraopiurus>\n",
      "<llsllaurus>\n",
      "<tksusaurus>\n",
      "<snrtsauros>\n",
      "<atercasthr>\n",
      "<snccrdgxhurus>\n",
      "<llstpturus>\n",
      "<apraosaurus>\n",
      "<sabrorhlainu>\n",
      "<puatosihus>\n",
      "\n",
      "Epoch:35\n",
      "<yinrssaurus>\n",
      "<ailralslas>\n",
      "<salatciyr>\n",
      "<couoonosaurus>\n",
      "<tbcsanadrus>\n",
      "<cinaonteravaos>\n",
      "<tisushurus>\n",
      "<srrusauros>\n",
      "<aupucauris>\n",
      "<snrasaurus>\n",
      "<susorturus>\n",
      "<ptubosaurus>\n",
      "<tccooaonaurus>\n",
      "<jvkuhburus>\n",
      "<rpvtoospirus>\n",
      "\n",
      "Epoch:36\n",
      "<scrostts>\n",
      "<aodondapdosaurus>\n",
      "<llstnuurus>\n",
      "<anraoodaurus>\n",
      "<lbrasaurus>\n",
      "<wtsismurus>\n",
      "<kxrnosoccurus>\n",
      "<smsagiurus>\n",
      "<gnbucaurus>\n",
      "<tuihosaurus>\n",
      "<tbgicaurus>\n",
      "<ahssanmiurus>\n",
      "<ivnvgsortir>\n",
      "<kuurosocrus>\n",
      "<sauiuceosaurus>\n",
      "\n",
      "Epoch:37\n",
      "<aicrupoits>\n",
      "<lltootostrsopiaushur>\n",
      "<aisnarastor>\n",
      "<antova>\n",
      "<turirossurus>\n",
      "<aanaosawaurus>\n",
      "<apatgsaurus>\n",
      "<tgtosia>\n",
      "<rnxtossxauoas>\n",
      "<atgudauras>\n",
      "<smkasaurus>\n",
      "<susolcurus>\n",
      "<pusaoicaurus>\n",
      "<agsiaophurus>\n",
      "<jvnoasosaurus>\n",
      "\n",
      "Epoch:38\n",
      "<snorvangirus>\n",
      "<fubisocinsisauius>\n",
      "<tgsusiurus>\n",
      "<snsusaurus>\n",
      "<atcoadosaurus>\n",
      "<auantseurus>\n",
      "<dsrpysaurus>\n",
      "<lcruapurus>\n",
      "<lbrisaurus>\n"
     ]
    },
    {
     "name": "stdout",
     "output_type": "stream",
     "text": [
      "<waugpsmurus>\n",
      "<yurtrocaurus>\n",
      "<smucauras>\n",
      "<snrarapturus>\n",
      "<srpusaurus>\n",
      "<tbrocaurus>\n",
      "\n",
      "Epoch:39\n",
      "<aaugasaurus>\n",
      "<aauougotisas>\n",
      "<kuugostareierp>\n",
      "<ftbdspapiorib>\n",
      "<aauiuipurus>\n",
      "<snvunotokrus>\n",
      "<scrlrcdsaurus>\n",
      "<hcreosaurus>\n",
      "<llssnturus>\n",
      "<anrapaerus>\n",
      "<burapaurus>\n",
      "<aptusaurus>\n",
      "<rtbzrno>\n",
      "<tbmocaurus>\n",
      "<agrnaiascsa>\n",
      "\n",
      "Epoch:40\n",
      "<anyovesaurus>\n",
      "<jxtosaurus>\n",
      "<euctntcrus>\n",
      "<llthocpgrus>\n",
      "<bururaurus>\n",
      "<ltsubepaorssn>\n",
      "<alsobaurus>\n",
      "<sdjyosast>\n",
      "<llstrysaurus>\n",
      "<lcltaontar>\n",
      "<lbikrnarrus>\n",
      "<puauosaurus>\n",
      "<sprtvauros>\n",
      "<aomtaniurus>\n",
      "<gnaudaurus>\n",
      "\n",
      "Epoch:41\n",
      "<suedoravrps>\n",
      "<tbkocaurus>\n",
      "<airuaarrus>\n",
      "<scgypyasaurus>\n",
      "<kytkspurus>\n",
      "<eubuc>\n",
      "<airoaoioeratso>\n",
      "<puahrpojhurus>\n",
      "<pusapoaloe>\n",
      "<fuaepnasaurus>\n",
      "<antotaurus>\n",
      "<rtrzrpauros>\n",
      "<altasaurus>\n",
      "<aobsioc>\n",
      "<anysrltxuurus>\n",
      "\n",
      "Epoch:42\n",
      "<yugusya>\n",
      "<lcnudhuras>\n",
      "<lbgbsauius>\n",
      "<wrtgsuterr>\n",
      "<kysoseurus>\n",
      "<eucuptcrus>\n",
      "<ljslpasaurus>\n",
      "<supllaurus>\n",
      "<psubonasaurus>\n",
      "<buebohomaurus>\n",
      "<oucuvinator>\n",
      "<sqsusaosaurus>\n",
      "<tcdtocaurus>\n",
      "<sdhvourus>\n",
      "<llpus>\n",
      "\n",
      "Epoch:43\n",
      "<snkusaurus>\n",
      "<atbvahosaurus>\n",
      "<aucovaurus>\n",
      "<llsus>\n",
      "<sqsusaurus>\n",
      "<aumucernasaurus>\n",
      "<anytrdon>\n",
      "<llssnuodon>\n",
      "<anrai>\n",
      "<auguadssaurus>\n",
      "<aucosttj>\n",
      "<tuihonithurus>\n",
      "<inalodomiurus>\n",
      "<llunodhurus>\n",
      "<bitthnsausus>\n",
      "\n",
      "Epoch:44\n",
      "<stbdhalocokiurus>\n",
      "<laurofogrus>\n",
      "<biuropaurus>\n",
      "<qiuahoccurus>\n",
      "<agoparrus>\n",
      "<aicgustasuurus>\n",
      "<kutgospcrus>\n",
      "<sdshucms>\n",
      "<anchidaratrps>\n",
      "<susolr>\n",
      "<jysirosaurus>\n",
      "<augtalaurus>\n",
      "<gnbtdislus>\n",
      "<sughsaurus>\n",
      "<subioanhurus>\n",
      "\n",
      "Epoch:45\n",
      "<burasourus>\n",
      "<anysrecurus>\n",
      "<pnyusaurus>\n",
      "<amteunocaures>\n",
      "<sngauaurus>\n",
      "<surhanos>\n",
      "<snlstaurus>\n",
      "<auruadtsaurus>\n",
      "<aucovdurus>\n",
      "<llsus>\n",
      "<snposbnpaurus>\n",
      "<tckurasaurus>\n",
      "<aososaurus>\n",
      "<rur>\n",
      "<sarpucgocaurus>\n",
      "\n",
      "Epoch:46\n",
      "<ahruc>\n",
      "<cmngcalrus>\n",
      "<busurisaurus>\n",
      "<suanraurus>\n",
      "<tcctrasaurus>\n",
      "<aaugudossihsiurus>\n",
      "<suasocgsaurus>\n",
      "<spailonairus>\n",
      "<pucttsurus>\n",
      "<ykrrosanamrus>\n",
      "<epblopaurus>\n",
      "<apcrursurus>\n",
      "<dronyslsaurus>\n",
      "<euatitcaosaurus>\n",
      "<auantsydiurus>\n",
      "\n",
      "Epoch:47\n",
      "<rnyosaurus>\n",
      "<amsasaugus>\n",
      "<andulacrus>\n",
      "<pucrtrohaurus>\n",
      "<piubopalte>\n",
      "<gtccrnairaurus>\n",
      "<ktotattosaurus>\n",
      "<lhusanaurus>\n",
      "<euagosaurus>\n",
      "<auchuosa>\n",
      "<sugiropturus>\n",
      "<anganodburus>\n",
      "<lbgesaurus>\n",
      "<wstarottasus>\n",
      "<snstrasaurus>\n",
      "\n",
      "Epoch:48\n",
      "<eubeskcrus>\n",
      "<gcsar>\n",
      "<oucuspunus>\n",
      "<yurusocepeor>\n",
      "<smucasacrus>\n",
      "<hcscitlxliurus>\n",
      "<qotupnstar>\n",
      "<amsarhuals>\n",
      "<apatinaurus>\n",
      "<tgnusatrus>\n",
      "<spsouciairus>\n",
      "<euadsnarus>\n",
      "<hcsaruridrus>\n",
      "<dsslvosauris>\n",
      "<amsasaurus>\n",
      "\n",
      "Epoch:49\n",
      "<apathna>\n",
      "<antusaurus>\n",
      "<rsi>\n",
      "<snlstas>\n",
      "<alterpiurus>\n",
      "<llsnpauaurus>\n",
      "<susrisaurus>\n",
      "<suahiagsaurus>\n",
      "<sraalsesaurus>\n",
      "<tgsrshnturus>\n",
      "<pusapeeaurus>\n",
      "<agsoaaurus>\n",
      "<scrus>\n",
      "<busuraos>\n",
      "<yustrrcaurus>\n",
      "\n",
      "Epoch:50\n",
      "<smsalrus>\n",
      "<cugictgaurus>\n",
      "<sireoshsiurus>\n",
      "<iacirciurus>\n",
      "<lbiasaurus>\n",
      "<wrsarssaurus>\n",
      "<snoosaurms>\n",
      "<aucuadomcia>\n",
      "<gnbtaktaurus>\n",
      "<laromvomso>\n",
      "<anrapterus>\n",
      "<buraraurus>\n",
      "<anttsatouris>\n",
      "<ixroospcaurus>\n",
      "<snsahourus>\n",
      "\n"
     ]
    }
   ],
   "source": [
    "train(model, loss_fn, optimizer, epochs = 50)"
   ]
  },
  {
   "cell_type": "markdown",
   "metadata": {
    "colab_type": "text",
    "id": "qtkwMfSejsut"
   },
   "source": [
    "### Task 2.\n",
    "Rewrite the sampling function so that pangrams (words that contain each character of the alphabet only ones)\n",
    "\n",
    "### Task 3.\n",
    "Rewrite the sampling function so that is it is possible to change the sampling temperature\n",
    "\n",
    "### Task 4.\n",
    "Implement the beam search for sampling"
   ]
  },
  {
   "cell_type": "markdown",
   "metadata": {
    "colab_type": "text",
    "id": "eCFjdgjwjsuu"
   },
   "source": [
    "# Reference\n",
    "\n",
    "1. Sampling in  RNN: https://nlp.stanford.edu/blog/maximum-likelihood-decoding-with-rnns-the-good-the-bad-and-the-ugly/\n",
    "2. Coursera course (main source): https://github.com/furkanu/deeplearning.ai-pytorch/tree/master/5-%20Sequence%20Models\n",
    "3. Coursera course (main source): https://github.com/Kulbear/deep-learning-coursera/blob/master/Sequence%20Models/Dinosaurus%20Island%20--%20Character%20level%20language%20model%20final%20-%20v3.ipynb\n",
    "4. LSTM: http://colah.github.io/posts/2015-08-Understanding-LSTMs/"
   ]
  }
 ],
 "metadata": {
  "colab": {
   "collapsed_sections": [
    "ZOEH4tcijst-",
    "8C6AXbd1jst_",
    "qtkwMfSejsut"
   ],
   "name": "Dinosaur Island LM.ipynb",
   "provenance": [],
   "version": "0.3.2"
  },
  "kernelspec": {
   "display_name": "Python 3",
   "language": "python",
   "name": "python3"
  },
  "language_info": {
   "codemirror_mode": {
    "name": "ipython",
    "version": 3
   },
   "file_extension": ".py",
   "mimetype": "text/x-python",
   "name": "python",
   "nbconvert_exporter": "python",
   "pygments_lexer": "ipython3",
   "version": "3.6.0"
  }
 },
 "nbformat": 4,
 "nbformat_minor": 1
}
