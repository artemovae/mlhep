{
 "cells": [
  {
   "cell_type": "code",
   "execution_count": 1,
   "metadata": {},
   "outputs": [],
   "source": [
    "import warnings\n",
    "warnings.filterwarnings('ignore')"
   ]
  },
  {
   "cell_type": "code",
   "execution_count": 2,
   "metadata": {},
   "outputs": [],
   "source": [
    "import tensorflow as tf\n",
    "tf.logging.set_verbosity(tf.logging.ERROR)"
   ]
  },
  {
   "cell_type": "code",
   "execution_count": 3,
   "metadata": {},
   "outputs": [],
   "source": [
    "%matplotlib inline\n",
    "import matplotlib.pyplot as plt\n",
    "\n",
    "import pandas\n",
    "import numpy\n",
    "\n",
    "import user_test_submission as submission"
   ]
  },
  {
   "cell_type": "code",
   "execution_count": 4,
   "metadata": {},
   "outputs": [
    {
     "name": "stderr",
     "output_type": "stream",
     "text": [
      "Using TensorFlow backend.\n"
     ]
    }
   ],
   "source": [
    "from clusterer import Clusterer\n",
    "from sklearn.cluster import DBSCAN\n",
    "from keras import layers, models\n",
    "import numpy as np\n",
    "import math\n",
    "from metrics import predictor\n",
    "from sklearn.base import BaseEstimator"
   ]
  },
  {
   "cell_type": "markdown",
   "metadata": {},
   "source": [
    "# Track Pattern Recognition using Linear Approximation of a Track\n",
    "\n",
    "## Introduction\n",
    "\n",
    "Track pattern recognition is an early step of the reconstruction of data coming from a particle detector. It recognizes tracks among the subdetectors hits. Reconstructed track parameters allow to estimate the particle deviation in a magnetic field, and thus reconstruct its charge and momentum. This information is used for the reconstruction of the decay vertex, to identify the mother particle and for further particle identification.\n",
    "\n",
    "There is wide variety of the track pattern recognition methods. They differ in how they process the hits, what kind of tracks they are able to recognize and which requirements these tracks should satisfy. Therefore, specifics of an experiment and the detector geometry affect the tracking performance and track pattern recognition methods should be adapted to it accordingly.\n",
    "\n",
    "In this notebook a track pattern recognition for a 2D detector with circular geometry and uniform magnetic field is considered. The detector schema with hits and tracks of an event is shown in the figure below. The challenge is to recognize tracks of an event with the highest efficiecny. It supposed that one hit can belong to only one track. \n",
    "\n",
    "<img src=\"pic/detector.png\" /> <br>\n",
    "\n"
   ]
  },
  {
   "cell_type": "markdown",
   "metadata": {},
   "source": [
    "\n",
    "## Quick Glossary\n",
    "\n",
    "We use the following vocabulary in the context of practice session. It may be slightly different from the general high-energy physics context. Some terms are not used in the workbook, but kept here in case they are used in the discussions.\n",
    "\n",
    "* **event**: a recorded (or simulated) collision in which many particles are present, the basic unit of particle physics data\n",
    "* **pixel**: the smallest detector unit\n",
    "* **hit**: a pixel through which a particle has passed and left signal in a given event\n",
    "* **cluster**: a set of hits, belonging (or predicted to be belonging) to the trajectory of a single particle\n",
    "* **reconstruct**: same thing as predict, but may also refer to further derived quantities\n",
    "* **track**: a reconstructed particle, that is, a cluster but also including additional derived information, such as the overall curvature and angle\n",
    "* **vertex**: the point close to the center of the detector, from which the particles have originated\n",
    "* **impact parameter**: the shortest distance between a track and the origin\n",
    "* **(momentum/angle/etc) resolution** : width of the normal distribution of the difference between a predicted quantity and the true value of that quantity\n",
    "\n",
    "## Objectives\n",
    "\n",
    "The main objective of the challenge is the optimal matching of the hits in an event. The positions of the hits in the detector are provided as input data, and the user is expected to implement a clustering scheme (trained on data if needed), so that every hit is assigned to a cluster id.\n",
    "\n",
    "The value of the cluster id itself is not relevant for the task, what is relevant is which hits are clustered together, and whether this clustering corresponds well to the input particles. The score function that describes this is included in the notebook, and details will be mentioned there.\n",
    "\n",
    "## Application\n",
    "\n",
    "The user is expected to implement the class `clusterer.py`, which contains the `__init__`, `fit`, and `predict_single_event` functions.\n",
    "\n",
    "* **`__init__`** is where parameters should be set.\n",
    "* **`fit`** is the training function (not to be confused with track-fitting), where the algorithm has access to the ground-truth. This function is to be run once on an input array that contains a set of training events. The user is able to implement any event-level or particle-level segmentation of the input array in order to set up the training in any desired way.\n",
    "* **`predict_single_event`** is the function to reconstruct the hit clusters (tracks), returning an array of predicted (reconstructed) ids associated to each hit in the input array. This function takes only the hits from a single event as input, with the event_id dropped, and the RAMP machinery takes care of running this function on each event.\n",
    "\n",
    "The **task**  is to implement this class in a way that the predict_single_event function returns a numpy array of assigned cluster ids. At any level of this task, machine-learning techniques can be employed for sub-tasks defined by the user.\n",
    "\n",
    "## Detector\n",
    "\n",
    "Image from the Atlas experiment:\n",
    "\n",
    "<img src=\"pic/atlas2009.png\" /> <br>\n",
    "\n",
    "The data provided to the user is a list of hit positions from a simple toy detector model that mimics the Atlas detector design (which is generic enough for recent silicon-based tracking detectors). The detector has an onion-like geometry with 9 layers surrounding the origin with polar distances of $R = [39,85,155,213,271,405,562,762,1000]$ cm. These layers have a very small thicknesses compared to the distances, therefore the thickness can be neglected.\n",
    "\n",
    "Each layer is segmented in azimuth with high granularity. There are ($2\\pi$R/pitch)+1 pixels in every layer, where pitch is 0.025 cm for layers 0-4 and 0.05 cm for layers 5-9.\n",
    "\n",
    "Every \"pixel\" corresponds to the smallest detector unit defined by `layer` and `iphi` (azimuthal index).\n",
    "\n",
    "## Simulation\n",
    "\n",
    "The task uses a toy model for particle generation and simulation, in which a Poisson distribution is sampled to determine the number of particles in each event, with an average of 10 particles per event.\n",
    "\n",
    "The particles are sampled uniformly in azimuth and momentum with bounds on the momentum. Each particle originates from a vertex that is also randomly sampled from a narrow normal distribution around the origin. The proper dimensions of the momentum and position and determination of these values for the tracks are beyond the scope of the challenge.\n",
    "\n",
    "The particles generated this way are simulated in a uniform magnetic field. The detector material is considered to cause multiple-scattering, and this is implemented as a random rotation of the particle momentum at every detector position, sampled from a narrow normal distribution that roughly corresponds to the material of the Atlas tracker.\n",
    "\n",
    "In addition, some hit inefficiency is simulated by a random drop of some hits (with 3% probability), and a particle stopping probability of 1% is applied at each layer to simulate effects of hadronic interactions. Keeping these in mind, the algorithms might be desired to be able to handle cases when the particle doesn't have a hit on every layer.\n",
    "\n",
    "Since the detector has a very high granularity in azimuth, the cases where two particles pass through a single pixel are neglected (less than 0.2% probability).\n",
    "\n"
   ]
  },
  {
   "cell_type": "markdown",
   "metadata": {},
   "source": [
    "## About this notebook\n",
    "\n",
    "This notebook demonstrate how linear approximation of a track can be used for track pattern recognition. The notebook describes input data, the track pattern recognition method and qualyti metrics, and shows how to use them."
   ]
  },
  {
   "cell_type": "code",
   "execution_count": 5,
   "metadata": {},
   "outputs": [],
   "source": [
    "#!sudo pip install sklearn==0.18.1"
   ]
  },
  {
   "cell_type": "markdown",
   "metadata": {},
   "source": [
    "# Input data"
   ]
  },
  {
   "cell_type": "code",
   "execution_count": 6,
   "metadata": {},
   "outputs": [
    {
     "data": {
      "text/html": [
       "<div>\n",
       "<style scoped>\n",
       "    .dataframe tbody tr th:only-of-type {\n",
       "        vertical-align: middle;\n",
       "    }\n",
       "\n",
       "    .dataframe tbody tr th {\n",
       "        vertical-align: top;\n",
       "    }\n",
       "\n",
       "    .dataframe thead th {\n",
       "        text-align: right;\n",
       "    }\n",
       "</style>\n",
       "<table border=\"1\" class=\"dataframe\">\n",
       "  <thead>\n",
       "    <tr style=\"text-align: right;\">\n",
       "      <th></th>\n",
       "      <th>event_id</th>\n",
       "      <th>cluster_id</th>\n",
       "      <th>layer</th>\n",
       "      <th>iphi</th>\n",
       "      <th>x</th>\n",
       "      <th>y</th>\n",
       "    </tr>\n",
       "  </thead>\n",
       "  <tbody>\n",
       "    <tr>\n",
       "      <th>0</th>\n",
       "      <td>3</td>\n",
       "      <td>4</td>\n",
       "      <td>4</td>\n",
       "      <td>53253</td>\n",
       "      <td>53.900430</td>\n",
       "      <td>-265.585662</td>\n",
       "    </tr>\n",
       "    <tr>\n",
       "      <th>1</th>\n",
       "      <td>3</td>\n",
       "      <td>1</td>\n",
       "      <td>5</td>\n",
       "      <td>37216</td>\n",
       "      <td>-47.614439</td>\n",
       "      <td>-402.191329</td>\n",
       "    </tr>\n",
       "    <tr>\n",
       "      <th>2</th>\n",
       "      <td>3</td>\n",
       "      <td>1</td>\n",
       "      <td>0</td>\n",
       "      <td>7181</td>\n",
       "      <td>-4.253919</td>\n",
       "      <td>-38.767308</td>\n",
       "    </tr>\n",
       "    <tr>\n",
       "      <th>3</th>\n",
       "      <td>3</td>\n",
       "      <td>3</td>\n",
       "      <td>2</td>\n",
       "      <td>7937</td>\n",
       "      <td>44.418132</td>\n",
       "      <td>148.499258</td>\n",
       "    </tr>\n",
       "    <tr>\n",
       "      <th>4</th>\n",
       "      <td>3</td>\n",
       "      <td>4</td>\n",
       "      <td>0</td>\n",
       "      <td>7657</td>\n",
       "      <td>7.588600</td>\n",
       "      <td>-38.254583</td>\n",
       "    </tr>\n",
       "  </tbody>\n",
       "</table>\n",
       "</div>"
      ],
      "text/plain": [
       "   event_id  cluster_id  layer   iphi          x           y\n",
       "0         3           4      4  53253  53.900430 -265.585662\n",
       "1         3           1      5  37216 -47.614439 -402.191329\n",
       "2         3           1      0   7181  -4.253919  -38.767308\n",
       "3         3           3      2   7937  44.418132  148.499258\n",
       "4         3           4      0   7657   7.588600  -38.254583"
      ]
     },
     "execution_count": 6,
     "metadata": {},
     "output_type": "execute_result"
    }
   ],
   "source": [
    "name = \"public_train\"\n",
    "data = pandas.read_csv('datasets/'+name+'.csv', index_col=False)\n",
    "#data = data[data['event_id'].values < 100]\n",
    "\n",
    "data.head()"
   ]
  },
  {
   "cell_type": "markdown",
   "metadata": {},
   "source": [
    "## Exploratory data analysis"
   ]
  },
  {
   "cell_type": "markdown",
   "metadata": {},
   "source": [
    "### Data Preparation"
   ]
  },
  {
   "cell_type": "code",
   "execution_count": 7,
   "metadata": {},
   "outputs": [],
   "source": [
    "y = data[['event_id', 'cluster_id']].values\n",
    "X = data.drop(['cluster_id'], axis=1).values"
   ]
  },
  {
   "cell_type": "markdown",
   "metadata": {},
   "source": [
    "### Visualize the hits in a single event"
   ]
  },
  {
   "cell_type": "code",
   "execution_count": 8,
   "metadata": {},
   "outputs": [],
   "source": [
    "event_id = 42\n",
    "event_indices = (X[:, 0] == event_id)\n",
    "X_event = X[event_indices, 1:] # event_id column dropped\n",
    "pixel_x = X_event[:, 2]\n",
    "pixel_y = X_event[:, 3]\n",
    "tracks = y[event_indices][: ,1]"
   ]
  },
  {
   "cell_type": "markdown",
   "metadata": {},
   "source": [
    "#### Hits from all tracks"
   ]
  },
  {
   "cell_type": "code",
   "execution_count": 9,
   "metadata": {},
   "outputs": [
    {
     "data": {
      "image/png": "[encoded data removed]",
      "text/plain": [
       "<Figure size 432x288 with 1 Axes>"
      ]
     },
     "metadata": {
      "needs_background": "light"
     },
     "output_type": "display_data"
    }
   ],
   "source": [
    "plt.scatter(pixel_x, pixel_y)\n",
    "plt.axis('equal')\n",
    "plt.show()"
   ]
  },
  {
   "cell_type": "markdown",
   "metadata": {},
   "source": [
    "This is what the algorithm will see."
   ]
  },
  {
   "cell_type": "markdown",
   "metadata": {},
   "source": [
    "#### Hits from a single track"
   ]
  },
  {
   "cell_type": "code",
   "execution_count": 10,
   "metadata": {},
   "outputs": [
    {
     "data": {
      "image/png": "[encoded data removed]",
      "text/plain": [
       "<Figure size 432x288 with 1 Axes>"
      ]
     },
     "metadata": {
      "needs_background": "light"
     },
     "output_type": "display_data"
    }
   ],
   "source": [
    "track_id = 2\n",
    "track_hits = (tracks == track_id)\n",
    "plt.scatter(pixel_x[track_hits], pixel_y[track_hits])\n",
    "plt.axis('equal')\n",
    "plt.show()"
   ]
  },
  {
   "cell_type": "markdown",
   "metadata": {},
   "source": [
    "So, ideally, our algorithm wants to assign specific ids to all hits in a way that corresponds to the particle. The perfect algorithm will split the event into various tracks:"
   ]
  },
  {
   "cell_type": "code",
   "execution_count": 11,
   "metadata": {},
   "outputs": [
    {
     "data": {
      "image/png": "[encoded data removed]",
      "text/plain": [
       "<Figure size 432x288 with 1 Axes>"
      ]
     },
     "metadata": {
      "needs_background": "light"
     },
     "output_type": "display_data"
    }
   ],
   "source": [
    "cmap = ['k', 'b', 'y', 'g', 'r', 'k', 'b']\n",
    "for track_id in np.unique(tracks):\n",
    "    track_hits = (tracks == track_id)\n",
    "    plt.scatter(pixel_x[track_hits], pixel_y[track_hits], color=cmap[int(track_id) % 7])\n",
    "plt.show()"
   ]
  },
  {
   "cell_type": "markdown",
   "metadata": {},
   "source": [
    "## Train/Test Split"
   ]
  },
  {
   "cell_type": "code",
   "execution_count": 12,
   "metadata": {},
   "outputs": [],
   "source": [
    "from sklearn.model_selection import train_test_split\n",
    "\n",
    "\n",
    "event_ids = numpy.unique(data['event_id'].values)\n",
    "\n",
    "event_ids_train, event_ids_test = train_test_split(event_ids, \n",
    "                                                   test_size=1000, \n",
    "                                                   random_state=42)\n",
    "\n",
    "X_train, y_train = X[data['event_id'].isin(event_ids_train)], y[data['event_id'].isin(event_ids_train)]\n",
    "X_test, y_test = X[data['event_id'].isin(event_ids_test)], y[data['event_id'].isin(event_ids_test)]"
   ]
  },
  {
   "cell_type": "markdown",
   "metadata": {},
   "source": [
    "# Track Pattern Recognition"
   ]
  },
  {
   "cell_type": "markdown",
   "metadata": {},
   "source": [
    "## Density-based clustering of a Track\n",
    "\n",
    "This method is based on the DNSCAN clustering of a track. "
   ]
  },
  {
   "cell_type": "code",
   "execution_count": 13,
   "metadata": {},
   "outputs": [],
   "source": [
    "from clusterer import Clusterer\n",
    "from sklearn.cluster import DBSCAN\n",
    "\n",
    "ctr = Clusterer(cluster=DBSCAN(eps=0.05, min_samples=1))\n",
    "\n",
    "ctr.fit(X_train, y_train)"
   ]
  },
  {
   "cell_type": "code",
   "execution_count": 14,
   "metadata": {},
   "outputs": [
    {
     "name": "stdout",
     "output_type": "stream",
     "text": [
      "CPU times: user 1.38 s, sys: 30.6 ms, total: 1.41 s\n",
      "Wall time: 1.51 s\n"
     ]
    }
   ],
   "source": [
    "%%time\n",
    "from metrics import predictor\n",
    "\n",
    "y_pred_test = predictor(ctr, X_test, y_test)"
   ]
  },
  {
   "cell_type": "code",
   "execution_count": 15,
   "metadata": {},
   "outputs": [
    {
     "name": "stdout",
     "output_type": "stream",
     "text": [
      "Score: 0.1414\n"
     ]
    }
   ],
   "source": [
    "score = submission.score_function(y_test, y_pred_test)\n",
    "print(\"Score: {:1.4f}\".format(score))"
   ]
  },
  {
   "cell_type": "markdown",
   "metadata": {},
   "source": [
    "## RNN-based clustering of a Track"
   ]
  },
  {
   "cell_type": "markdown",
   "metadata": {},
   "source": [
    "We will use a basic LSTM model architecture used to classify hits for one track. The LSTM and a fully-connected layer with a softmax activation read the pixel arrays and predict which pixels belong to the target track.\n",
    "\n",
    "<img src=\"pic/model.png\" /> <br>"
   ]
  },
  {
   "cell_type": "code",
   "execution_count": null,
   "metadata": {},
   "outputs": [],
   "source": []
  },
  {
   "cell_type": "code",
   "execution_count": 63,
   "metadata": {},
   "outputs": [],
   "source": [
    "class det_geo():\n",
    "    layer_r = np.array([39,85,155,213,271,405,562,762,1000])\n",
    "    layer_pitch = np.array([0.025, 0.025, 0.025, 0.025, 0.025,\n",
    "                            0.05, 0.05, 0.05, 0.05])\n",
    "    num_layers = layer_r.shape[0]\n",
    "    num_pixels = (2 * np.pi * layer_r / layer_pitch + 1).astype(np.int)\n",
    "    max_phi = num_pixels # backwards compatibility\n",
    "\n",
    "def rebin_phi(phi_bin, nbin, layer):\n",
    "    return (phi_bin * float(nbin) /\n",
    "            det_geo.num_pixels[layer.astype(np.int)]).astype(np.int)\n",
    "\n",
    "def rescale_phi(phi_bin, factor):\n",
    "    return (phi_bin * factor).astype(np.int)\n",
    "\n",
    "def get_phi(phi_bin, layer, phi_scale=1.):\n",
    "    return 2*np.pi*phi_bin / math.ceil(det_geo.num_pixels[layer]*phi_scale)\n",
    "\n",
    "def get_phi_bin(phi, layer, phi_scale=1.):\n",
    "    # Is this rounding the right way?\n",
    "    #return int((phi/(2*np.pi)) * det_geo.num_pixels[layer] * phi_scale)\n",
    "    return int(phi_scale * det_geo.num_pixels[layer] * phi / (2*np.pi))\n",
    "\n",
    "def get_phi_bin_range(phi_bin, layer, window_size=15, phi_scale=1.):\n",
    "    phi = get_phi(phi_bin, layer, phi_scale)\n",
    "    phi_bins = np.array([get_phi_bin(phi, i, phi_scale)\n",
    "                         for i in range(det_geo.num_layers)])\n",
    "    return (phi_bins - window_size//2, phi_bins + window_size//2)\n",
    "\n",
    "def build_model(num_hidden, length, dim,\n",
    "                loss='categorical_crossentropy',\n",
    "                optimizer='Nadam', metrics=['accuracy']):\n",
    "    inputs = layers.Input(shape=(length, dim))\n",
    "    hidden = layers.LSTM(output_dim=num_hidden, return_sequences=True)(inputs)\n",
    "    outputs = layers.TimeDistributed(layers.Dense(dim, activation='softmax'))(hidden)\n",
    "    model = models.Model(input=inputs, output=outputs)\n",
    "    model.compile(loss=loss, optimizer=optimizer, metrics=metrics)\n",
    "    return model\n",
    "\n",
    "\n"
   ]
  },
  {
   "cell_type": "code",
   "execution_count": 66,
   "metadata": {},
   "outputs": [],
   "source": [
    "class Clusterer(BaseEstimator):\n",
    "    def __init__(self, min_cos_value=0.9):\n",
    "        \"\"\"\n",
    "        Track Pattern Recognition based on the connections between\n",
    "        two nearest hits from two nearest detector layers.\n",
    "\n",
    "        Parameters\n",
    "        ----------\n",
    "        min_cos_value : float\n",
    "            Minimum cos value between two nearest segments of the track.\n",
    "        \"\"\"\n",
    "        self.min_cos_value = min_cos_value\n",
    "        self.phi_scale = 1/50.\n",
    "        self.num_phi_bins = np.ceil(det_geo.num_pixels * self.phi_scale).astype(np.int)\n",
    "        self.window_size = 501\n",
    "        self.hidden_dim = 50\n",
    "        self.model = build_model(self.hidden_dim,\n",
    "                                 det_geo.layer_r.shape[0],\n",
    "                                 self.window_size)\n",
    "\n",
    "        \n",
    "        \n",
    "        self.batch_size = 50\n",
    "        self.num_epoch = 2\n",
    "        \n",
    "        # safety check - shouldn't be needed anymore\n",
    "        #assert (self.num_phi_bins*2 >= self.window_size).all()\n",
    "\n",
    "    def fit(self, X, y):\n",
    "        evids, lays, phis = (X[:,0].astype(np.int),\n",
    "                             X[:,1].astype(np.int),\n",
    "                             X[:,2].astype(np.int))\n",
    "        phis = rescale_phi(phis, self.phi_scale)\n",
    "        #unique_evids = np.unique(evids)\n",
    "        #num_event = unique_evids.shape[0]\n",
    "        \n",
    "        # Count the number of first-layer hits, which will be my seeds\n",
    "        seed_idx = np.where(lays == 0)[0]\n",
    "        num_seeds = seed_idx.size\n",
    "        print( 'Number of seeds: %d' % num_seeds)\n",
    "\n",
    "        print( 'Preparing training data...')\n",
    "        # Training input will contain the seed hit followed by the rest of the event\n",
    "        self.train_input = np.zeros((num_seeds, det_geo.num_layers,\n",
    "                                     self.window_size))\n",
    "        # Training targets will be images of the individual signal tracks\n",
    "        self.train_target = np.zeros_like(self.train_input)\n",
    "        \n",
    "        # Loop over training samples to prepare (seeds)\n",
    "        for i_sample in range(num_seeds):\n",
    "            i_seed = seed_idx[i_sample]\n",
    "\n",
    "            # Find all the hits from this event\n",
    "            evid = y[i_seed, 0]\n",
    "            ev_idxs = (evids == evid)\n",
    "            ev_lays, ev_phis = lays[ev_idxs], phis[ev_idxs]\n",
    "            \n",
    "            # Transform global phi bins into window pixel number\n",
    "            pix_min, _ = get_phi_bin_range(phis[i_seed], lays[i_seed], self.window_size)\n",
    "            ev_pixs = ev_phis - pix_min[ev_lays]\n",
    "            #print(ev_pixs, ev_phis, pix_min[ev_lays])\n",
    "            \n",
    "            # Find the hits which wrap around at phi=0 and are outside the window\n",
    "            outside_idxs = np.logical_or(ev_pixs < 0, ev_pixs >= self.window_size)\n",
    "            wrap_pixs_up = ev_pixs - self.num_phi_bins[ev_lays]\n",
    "            wrap_pixs_dn = ev_pixs + self.num_phi_bins[ev_lays]\n",
    "            wrap_pixs_up_idxs = np.logical_and(wrap_pixs_up >= 0, outside_idxs)\n",
    "            wrap_pixs_dn_idxs = np.logical_and(wrap_pixs_dn < self.window_size, outside_idxs)\n",
    "            ev_pixs[wrap_pixs_up_idxs] = wrap_pixs_up[wrap_pixs_up_idxs]\n",
    "            ev_pixs[wrap_pixs_dn_idxs] = wrap_pixs_dn[wrap_pixs_dn_idxs]\n",
    "\n",
    "            # Now select all hits contained in the window\n",
    "            sample_idxs = np.logical_and(ev_pixs >= 0, ev_pixs < self.window_size)\n",
    "            sample_lays, sample_pixs = ev_lays[sample_idxs], ev_pixs[sample_idxs]\n",
    "\n",
    "            # Fill the input first layer with just the seed hit\n",
    "            self.train_input[i_sample, 0, self.window_size//2] = 1\n",
    "            #print(i_sample, 0, self.window_size//2)\n",
    "            # Fill the other layers with all remaining event hits\n",
    "            #print(i_sample, sample_lays[sample_lays>0], sample_pixs[sample_lays>0])\n",
    "            self.train_input[i_sample, sample_lays[sample_lays>0], sample_pixs[sample_lays>0]] = 1\n",
    "            \n",
    "            # Fill target with all hits from this track\n",
    "            ev_trkids = y[ev_idxs][:,1]\n",
    "            ev_sig_idxs = ev_trkids == y[i_seed,1]\n",
    "            #print ev_pixs[ev_sig_idxs]\n",
    "            self.train_target[i_sample, ev_lays[ev_sig_idxs], ev_pixs[ev_sig_idxs]] = 1\n",
    "\n",
    "        print( 'Starting training...'  )    \n",
    "        self.history = self.model.fit(\n",
    "            self.train_input, self.train_target,\n",
    "            batch_size=self.batch_size, nb_epoch=self.num_epoch)\n",
    "\n",
    "    def predict_single_event(self, X_event):\n",
    "        \n",
    "        # We need to now transform the data into the format\n",
    "        # needed for my algorithm\n",
    "        lays, phis = (X_event[:,0].astype(np.int),\n",
    "                      X_event[:,1].astype(np.int))\n",
    "        # Rebin phi\n",
    "        phis = rescale_phi(phis, self.phi_scale)\n",
    "        \n",
    "        # First, find the seeds\n",
    "        seed_idx = np.where(lays == 0)[0]\n",
    "        num_seeds = seed_idx.size\n",
    "#         print ('Number of seeds: %d' % num_seeds  )  \n",
    "        \n",
    "        # Prepare the model inputs\n",
    "        self.test_input = np.zeros((num_seeds, det_geo.num_layers,\n",
    "                                    self.window_size))\n",
    "        # Save the window coordinates for each input as well\n",
    "        self.window_min = np.zeros((num_seeds, det_geo.num_layers), dtype=int)\n",
    "        \n",
    "        # Loop over seeds to prepare\n",
    "        for i_sample in range(num_seeds):\n",
    "            i_seed = seed_idx[i_sample]\n",
    "            \n",
    "            # Transform global phi bins into window pixel number\n",
    "            pix_min, _ = get_phi_bin_range(phis[i_seed], lays[i_seed], self.window_size)\n",
    "            pixs = phis - pix_min[lays]\n",
    "            self.window_min[i_sample] = pix_min\n",
    "            \n",
    "            # Find the hits which wrap around at phi=0 and are outside the window\n",
    "            outside_idxs = np.logical_or(pixs < 0, pixs >= self.window_size)\n",
    "            wrap_up = pixs - self.num_phi_bins[lays]\n",
    "            wrap_dn = pixs + self.num_phi_bins[lays]\n",
    "            wrap_up_idxs = np.logical_and(wrap_up >= 0, outside_idxs)\n",
    "            wrap_dn_idxs = np.logical_and(wrap_dn < self.window_size, outside_idxs)\n",
    "            pixs[wrap_up_idxs] = wrap_up[wrap_up_idxs]\n",
    "            pixs[wrap_dn_idxs] = wrap_dn[wrap_dn_idxs]\n",
    "\n",
    "            # Now select all hits contained in the window\n",
    "            sample_idxs = np.logical_and(pixs >= 0, pixs < self.window_size)\n",
    "            sample_lays, sample_pixs = lays[sample_idxs], pixs[sample_idxs]\n",
    "\n",
    "            # Fill the input first layer with just the seed hit\n",
    "            #print 'Seed pixel:', pixs[i_seed]\n",
    "            self.test_input[i_sample, 0, int(pixs[i_seed])] = 1\n",
    "            # Fill the other layers with all remaining event hits\n",
    "            self.test_input[i_sample, sample_lays[sample_lays>0], sample_pixs[sample_lays>0]] = 1\n",
    "        \n",
    "        # Run the model prediction\n",
    "        self.test_pred = self.model.predict(self.test_input)\n",
    "        \n",
    "        # Now we need to loop over all hits and decide which\n",
    "        # track they belong to\n",
    "        trkid = np.zeros(X_event.shape[0])\n",
    "        for i in range(trkid.shape[0]):\n",
    "            lay, phi = lays[i], phis[i]\n",
    "            \n",
    "            scores = np.zeros(num_seeds)\n",
    "            \n",
    "            # Loop over each seed\n",
    "            for j in range(num_seeds):\n",
    "                pred = self.test_pred[j]\n",
    "                window_min = self.window_min[j]\n",
    "                \n",
    "                # Need to transform into the window coordinates of each seed\n",
    "                pix = phi - window_min[lay]\n",
    "                # Correct for wrap-around\n",
    "                if pix < 0 and pix < self.window_size - self.num_phi_bins[lay]:\n",
    "                    pix = pix + self.num_phi_bins[lay]\n",
    "                elif pix >= self.window_size and pix >= self.num_phi_bins[lay]:\n",
    "                    pix = pix - self.num_phi_bins[lay]\n",
    "                \n",
    "                # Check the association score\n",
    "                if pix >= 0 and pix < self.window_size:\n",
    "                    scores[j] = pred[lay, pix]\n",
    "            \n",
    "            # Get the list of track scores\n",
    "            #scores = self.test_pred[:, lays[i], phis[i]]\n",
    "            #print 'scores:', scores\n",
    "            \n",
    "            # Select the best score\n",
    "            best = np.argmax(scores)\n",
    "\n",
    "            # If the best isn't good enough, it's possible that\n",
    "            # a track was missing a hit on the first layer.\n",
    "            # We may be able to improve score by assigning all such\n",
    "            # tracks to a new class (rather than 'unassigned')\n",
    "            if scores[best] < 1 / float(self.window_size):\n",
    "                #print 'Bad best:', scores[best]\n",
    "                best = scores.shape[0]\n",
    "\n",
    "            trkid[i] = best\n",
    "        \n",
    "        return trkid"
   ]
  },
  {
   "cell_type": "code",
   "execution_count": 67,
   "metadata": {},
   "outputs": [
    {
     "name": "stdout",
     "output_type": "stream",
     "text": [
      "Number of seeds: 38565\n",
      "Preparing training data...\n",
      "Starting training...\n",
      "Epoch 1/2\n",
      "38565/38565 [==============================] - 16s 422us/step - loss: 2.2024 - acc: 0.5019\n",
      "Epoch 2/2\n",
      "38565/38565 [==============================] - 16s 404us/step - loss: 0.5678 - acc: 0.8189\n"
     ]
    }
   ],
   "source": [
    "ctr = Clusterer()\n",
    "ctr.fit(X_train, y_train)"
   ]
  },
  {
   "cell_type": "code",
   "execution_count": 68,
   "metadata": {},
   "outputs": [
    {
     "name": "stdout",
     "output_type": "stream",
     "text": [
      "_________________________________________________________________\n",
      "Layer (type)                 Output Shape              Param #   \n",
      "=================================================================\n",
      "input_10 (InputLayer)        (None, 9, 501)            0         \n",
      "_________________________________________________________________\n",
      "lstm_10 (LSTM)               (None, 9, 50)             110400    \n",
      "_________________________________________________________________\n",
      "time_distributed_10 (TimeDis (None, 9, 501)            25551     \n",
      "=================================================================\n",
      "Total params: 135,951\n",
      "Trainable params: 135,951\n",
      "Non-trainable params: 0\n",
      "_________________________________________________________________\n"
     ]
    }
   ],
   "source": [
    "ctr.model.summary()"
   ]
  },
  {
   "cell_type": "code",
   "execution_count": 69,
   "metadata": {},
   "outputs": [],
   "source": [
    "y_pred_test = predictor(ctr, X_test[:, 1:], y_test)"
   ]
  },
  {
   "cell_type": "code",
   "execution_count": 73,
   "metadata": {},
   "outputs": [
    {
     "name": "stdout",
     "output_type": "stream",
     "text": [
      "Score: 0.9326\n"
     ]
    }
   ],
   "source": [
    "score = submission.score_function(y_test, y_pred_test)\n",
    "print(\"Score: {:1.4f}\".format(score))"
   ]
  },
  {
   "cell_type": "code",
   "execution_count": null,
   "metadata": {},
   "outputs": [],
   "source": [
    "#TODO: implement some visualisations"
   ]
  },
  {
   "cell_type": "markdown",
   "metadata": {},
   "source": [
    "# Tasks:\n",
    "1. Define a new function ```build_deep_model``` and create a new model: add a few dense layers before and after the LSTM layer. Play a bit with the shapes of the layers.\n",
    "2. Define a new function ```build_bidirectional_model``` and create a new model: use a bidirectional LSTM layers instead of a single LSTM layer. Use ```keras.layers.Bidirectional``` layer wrapper. Play a bit with the shapes of the layers.\n"
   ]
  },
  {
   "cell_type": "markdown",
   "metadata": {},
   "source": [
    "# Solutions:"
   ]
  },
  {
   "cell_type": "code",
   "execution_count": null,
   "metadata": {},
   "outputs": [],
   "source": [
    "def build_deep_model(num_hidden, length, dim,\n",
    "                loss='categorical_crossentropy',\n",
    "                optimizer='Nadam', metrics=['accuracy']):\n",
    "    inputs = layers.Input(shape=(length, dim))\n",
    "    hidden = layers.TimeDistributed(layers.Dense(num_hidden, activation='softmax'))(inputs)\n",
    "    hidden = layers.LSTM(output_dim=num_hidden, return_sequences=True)(hidden)\n",
    "    hidden = layers.TimeDistributed(layers.Dense(num_hidden, activation='softmax'))(hidden)\n",
    "    outputs = layers.TimeDistributed(layers.Dense(dim, activation='softmax'))(hidden)\n",
    "    model = models.Model(input=inputs, output=outputs)\n",
    "    model.compile(loss=loss, optimizer=optimizer, metrics=metrics)\n",
    "    return model"
   ]
  },
  {
   "cell_type": "code",
   "execution_count": null,
   "metadata": {},
   "outputs": [],
   "source": [
    "def build_bidirectional_model(num_hidden, length, dim,\n",
    "                loss='categorical_crossentropy',\n",
    "                optimizer='Nadam', metrics=['accuracy']):\n",
    "    inputs = layers.Input(shape=(length, dim))\n",
    "    hidden = layers.Bidirectional(layers.LSTM(output_dim=num_hidden, return_sequences=True))(inputs)\n",
    "    outputs = layers.TimeDistributed(layers.Dense(dim, activation='softmax'))(hidden)\n",
    "    model = models.Model(input=inputs, output=outputs)\n",
    "    model.compile(loss=loss, optimizer=optimizer, metrics=metrics)\n",
    "    return model"
   ]
  }
 ],
 "metadata": {
  "kernelspec": {
   "display_name": "Python 3",
   "language": "python",
   "name": "python3"
  },
  "language_info": {
   "codemirror_mode": {
    "name": "ipython",
    "version": 3
   },
   "file_extension": ".py",
   "mimetype": "text/x-python",
   "name": "python",
   "nbconvert_exporter": "python",
   "pygments_lexer": "ipython3",
   "version": "3.7.2"
  }
 },
 "nbformat": 4,
 "nbformat_minor": 1
}
